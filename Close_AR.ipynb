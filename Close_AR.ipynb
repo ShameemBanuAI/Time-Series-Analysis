{
 "cells": [
  {
   "cell_type": "code",
   "execution_count": 1,
   "id": "a71fdc15-84ee-4341-875e-802ce572e9ef",
   "metadata": {},
   "outputs": [],
   "source": [
    "import pandas as pd"
   ]
  },
  {
   "cell_type": "code",
   "execution_count": 2,
   "id": "3119445e-3877-44b4-ba82-1d1087a9c5ae",
   "metadata": {},
   "outputs": [],
   "source": [
    "from nsepy import get_history as gh\n",
    "import datetime as dt\n",
    "import yfinance as yf"
   ]
  },
  {
   "cell_type": "code",
   "execution_count": 8,
   "id": "3405ddd5-a335-4535-af0d-536c9ec5b08e",
   "metadata": {},
   "outputs": [
    {
     "name": "stderr",
     "output_type": "stream",
     "text": [
      "[*********************100%%**********************]  1 of 1 completed\n"
     ]
    }
   ],
   "source": [
    "symbol='AXISBANK.NS'\n",
    "start=dt.datetime(2021,7,1)\n",
    "end=dt.datetime(2022,1,28)\n",
    "stk_data=yf.download(symbol,start=start,end=end)"
   ]
  },
  {
   "cell_type": "code",
   "execution_count": 9,
   "id": "d74eb7cb-3363-4045-aefa-9397f1f84082",
   "metadata": {},
   "outputs": [
    {
     "data": {
      "text/html": [
       "<div>\n",
       "<style scoped>\n",
       "    .dataframe tbody tr th:only-of-type {\n",
       "        vertical-align: middle;\n",
       "    }\n",
       "\n",
       "    .dataframe tbody tr th {\n",
       "        vertical-align: top;\n",
       "    }\n",
       "\n",
       "    .dataframe thead th {\n",
       "        text-align: right;\n",
       "    }\n",
       "</style>\n",
       "<table border=\"1\" class=\"dataframe\">\n",
       "  <thead>\n",
       "    <tr style=\"text-align: right;\">\n",
       "      <th></th>\n",
       "      <th>Open</th>\n",
       "      <th>High</th>\n",
       "      <th>Low</th>\n",
       "      <th>Close</th>\n",
       "      <th>Adj Close</th>\n",
       "      <th>Volume</th>\n",
       "    </tr>\n",
       "    <tr>\n",
       "      <th>Date</th>\n",
       "      <th></th>\n",
       "      <th></th>\n",
       "      <th></th>\n",
       "      <th></th>\n",
       "      <th></th>\n",
       "      <th></th>\n",
       "    </tr>\n",
       "  </thead>\n",
       "  <tbody>\n",
       "    <tr>\n",
       "      <th>2021-07-01</th>\n",
       "      <td>750.000000</td>\n",
       "      <td>754.400024</td>\n",
       "      <td>744.500000</td>\n",
       "      <td>746.450012</td>\n",
       "      <td>744.555725</td>\n",
       "      <td>5695690</td>\n",
       "    </tr>\n",
       "    <tr>\n",
       "      <th>2021-07-02</th>\n",
       "      <td>747.599976</td>\n",
       "      <td>752.849976</td>\n",
       "      <td>744.000000</td>\n",
       "      <td>750.650024</td>\n",
       "      <td>748.745117</td>\n",
       "      <td>3557647</td>\n",
       "    </tr>\n",
       "    <tr>\n",
       "      <th>2021-07-05</th>\n",
       "      <td>757.099976</td>\n",
       "      <td>762.000000</td>\n",
       "      <td>753.400024</td>\n",
       "      <td>760.349976</td>\n",
       "      <td>758.420410</td>\n",
       "      <td>4680089</td>\n",
       "    </tr>\n",
       "    <tr>\n",
       "      <th>2021-07-06</th>\n",
       "      <td>757.000000</td>\n",
       "      <td>767.000000</td>\n",
       "      <td>755.200012</td>\n",
       "      <td>758.349976</td>\n",
       "      <td>756.425476</td>\n",
       "      <td>5529485</td>\n",
       "    </tr>\n",
       "    <tr>\n",
       "      <th>2021-07-07</th>\n",
       "      <td>755.900024</td>\n",
       "      <td>764.000000</td>\n",
       "      <td>752.250000</td>\n",
       "      <td>762.900024</td>\n",
       "      <td>760.963989</td>\n",
       "      <td>3573368</td>\n",
       "    </tr>\n",
       "    <tr>\n",
       "      <th>...</th>\n",
       "      <td>...</td>\n",
       "      <td>...</td>\n",
       "      <td>...</td>\n",
       "      <td>...</td>\n",
       "      <td>...</td>\n",
       "      <td>...</td>\n",
       "    </tr>\n",
       "    <tr>\n",
       "      <th>2022-01-20</th>\n",
       "      <td>731.049988</td>\n",
       "      <td>737.150024</td>\n",
       "      <td>722.150024</td>\n",
       "      <td>728.900024</td>\n",
       "      <td>727.050232</td>\n",
       "      <td>8505400</td>\n",
       "    </tr>\n",
       "    <tr>\n",
       "      <th>2022-01-21</th>\n",
       "      <td>722.000000</td>\n",
       "      <td>725.250000</td>\n",
       "      <td>708.049988</td>\n",
       "      <td>712.500000</td>\n",
       "      <td>710.691895</td>\n",
       "      <td>10689060</td>\n",
       "    </tr>\n",
       "    <tr>\n",
       "      <th>2022-01-24</th>\n",
       "      <td>715.000000</td>\n",
       "      <td>716.400024</td>\n",
       "      <td>688.200012</td>\n",
       "      <td>704.599976</td>\n",
       "      <td>702.811890</td>\n",
       "      <td>8812501</td>\n",
       "    </tr>\n",
       "    <tr>\n",
       "      <th>2022-01-25</th>\n",
       "      <td>714.000000</td>\n",
       "      <td>755.000000</td>\n",
       "      <td>708.599976</td>\n",
       "      <td>752.200012</td>\n",
       "      <td>750.291138</td>\n",
       "      <td>38088158</td>\n",
       "    </tr>\n",
       "    <tr>\n",
       "      <th>2022-01-27</th>\n",
       "      <td>744.000000</td>\n",
       "      <td>777.000000</td>\n",
       "      <td>738.099976</td>\n",
       "      <td>773.849976</td>\n",
       "      <td>771.886169</td>\n",
       "      <td>34927774</td>\n",
       "    </tr>\n",
       "  </tbody>\n",
       "</table>\n",
       "<p>144 rows × 6 columns</p>\n",
       "</div>"
      ],
      "text/plain": [
       "                  Open        High         Low       Close   Adj Close  \\\n",
       "Date                                                                     \n",
       "2021-07-01  750.000000  754.400024  744.500000  746.450012  744.555725   \n",
       "2021-07-02  747.599976  752.849976  744.000000  750.650024  748.745117   \n",
       "2021-07-05  757.099976  762.000000  753.400024  760.349976  758.420410   \n",
       "2021-07-06  757.000000  767.000000  755.200012  758.349976  756.425476   \n",
       "2021-07-07  755.900024  764.000000  752.250000  762.900024  760.963989   \n",
       "...                ...         ...         ...         ...         ...   \n",
       "2022-01-20  731.049988  737.150024  722.150024  728.900024  727.050232   \n",
       "2022-01-21  722.000000  725.250000  708.049988  712.500000  710.691895   \n",
       "2022-01-24  715.000000  716.400024  688.200012  704.599976  702.811890   \n",
       "2022-01-25  714.000000  755.000000  708.599976  752.200012  750.291138   \n",
       "2022-01-27  744.000000  777.000000  738.099976  773.849976  771.886169   \n",
       "\n",
       "              Volume  \n",
       "Date                  \n",
       "2021-07-01   5695690  \n",
       "2021-07-02   3557647  \n",
       "2021-07-05   4680089  \n",
       "2021-07-06   5529485  \n",
       "2021-07-07   3573368  \n",
       "...              ...  \n",
       "2022-01-20   8505400  \n",
       "2022-01-21  10689060  \n",
       "2022-01-24   8812501  \n",
       "2022-01-25  38088158  \n",
       "2022-01-27  34927774  \n",
       "\n",
       "[144 rows x 6 columns]"
      ]
     },
     "execution_count": 9,
     "metadata": {},
     "output_type": "execute_result"
    }
   ],
   "source": [
    "stk_data"
   ]
  },
  {
   "cell_type": "markdown",
   "id": "4e3103bf-e24a-454d-9e68-8a2319d6f654",
   "metadata": {},
   "source": [
    "# Data Collection"
   ]
  },
  {
   "cell_type": "code",
   "execution_count": 10,
   "id": "714a9639-3770-4880-b4c6-90166d3e49e8",
   "metadata": {},
   "outputs": [],
   "source": [
    "stk_data=stk_data[[\"Open\",\"High\",\"Low\",\"Close\"]]"
   ]
  },
  {
   "cell_type": "code",
   "execution_count": 11,
   "id": "f03d8680-9685-44ba-a82e-666ee51296fa",
   "metadata": {},
   "outputs": [
    {
     "data": {
      "text/html": [
       "<div>\n",
       "<style scoped>\n",
       "    .dataframe tbody tr th:only-of-type {\n",
       "        vertical-align: middle;\n",
       "    }\n",
       "\n",
       "    .dataframe tbody tr th {\n",
       "        vertical-align: top;\n",
       "    }\n",
       "\n",
       "    .dataframe thead th {\n",
       "        text-align: right;\n",
       "    }\n",
       "</style>\n",
       "<table border=\"1\" class=\"dataframe\">\n",
       "  <thead>\n",
       "    <tr style=\"text-align: right;\">\n",
       "      <th></th>\n",
       "      <th>Open</th>\n",
       "      <th>High</th>\n",
       "      <th>Low</th>\n",
       "      <th>Close</th>\n",
       "    </tr>\n",
       "    <tr>\n",
       "      <th>Date</th>\n",
       "      <th></th>\n",
       "      <th></th>\n",
       "      <th></th>\n",
       "      <th></th>\n",
       "    </tr>\n",
       "  </thead>\n",
       "  <tbody>\n",
       "    <tr>\n",
       "      <th>2021-07-01</th>\n",
       "      <td>750.000000</td>\n",
       "      <td>754.400024</td>\n",
       "      <td>744.500000</td>\n",
       "      <td>746.450012</td>\n",
       "    </tr>\n",
       "    <tr>\n",
       "      <th>2021-07-02</th>\n",
       "      <td>747.599976</td>\n",
       "      <td>752.849976</td>\n",
       "      <td>744.000000</td>\n",
       "      <td>750.650024</td>\n",
       "    </tr>\n",
       "    <tr>\n",
       "      <th>2021-07-05</th>\n",
       "      <td>757.099976</td>\n",
       "      <td>762.000000</td>\n",
       "      <td>753.400024</td>\n",
       "      <td>760.349976</td>\n",
       "    </tr>\n",
       "    <tr>\n",
       "      <th>2021-07-06</th>\n",
       "      <td>757.000000</td>\n",
       "      <td>767.000000</td>\n",
       "      <td>755.200012</td>\n",
       "      <td>758.349976</td>\n",
       "    </tr>\n",
       "    <tr>\n",
       "      <th>2021-07-07</th>\n",
       "      <td>755.900024</td>\n",
       "      <td>764.000000</td>\n",
       "      <td>752.250000</td>\n",
       "      <td>762.900024</td>\n",
       "    </tr>\n",
       "    <tr>\n",
       "      <th>...</th>\n",
       "      <td>...</td>\n",
       "      <td>...</td>\n",
       "      <td>...</td>\n",
       "      <td>...</td>\n",
       "    </tr>\n",
       "    <tr>\n",
       "      <th>2022-01-20</th>\n",
       "      <td>731.049988</td>\n",
       "      <td>737.150024</td>\n",
       "      <td>722.150024</td>\n",
       "      <td>728.900024</td>\n",
       "    </tr>\n",
       "    <tr>\n",
       "      <th>2022-01-21</th>\n",
       "      <td>722.000000</td>\n",
       "      <td>725.250000</td>\n",
       "      <td>708.049988</td>\n",
       "      <td>712.500000</td>\n",
       "    </tr>\n",
       "    <tr>\n",
       "      <th>2022-01-24</th>\n",
       "      <td>715.000000</td>\n",
       "      <td>716.400024</td>\n",
       "      <td>688.200012</td>\n",
       "      <td>704.599976</td>\n",
       "    </tr>\n",
       "    <tr>\n",
       "      <th>2022-01-25</th>\n",
       "      <td>714.000000</td>\n",
       "      <td>755.000000</td>\n",
       "      <td>708.599976</td>\n",
       "      <td>752.200012</td>\n",
       "    </tr>\n",
       "    <tr>\n",
       "      <th>2022-01-27</th>\n",
       "      <td>744.000000</td>\n",
       "      <td>777.000000</td>\n",
       "      <td>738.099976</td>\n",
       "      <td>773.849976</td>\n",
       "    </tr>\n",
       "  </tbody>\n",
       "</table>\n",
       "<p>144 rows × 4 columns</p>\n",
       "</div>"
      ],
      "text/plain": [
       "                  Open        High         Low       Close\n",
       "Date                                                      \n",
       "2021-07-01  750.000000  754.400024  744.500000  746.450012\n",
       "2021-07-02  747.599976  752.849976  744.000000  750.650024\n",
       "2021-07-05  757.099976  762.000000  753.400024  760.349976\n",
       "2021-07-06  757.000000  767.000000  755.200012  758.349976\n",
       "2021-07-07  755.900024  764.000000  752.250000  762.900024\n",
       "...                ...         ...         ...         ...\n",
       "2022-01-20  731.049988  737.150024  722.150024  728.900024\n",
       "2022-01-21  722.000000  725.250000  708.049988  712.500000\n",
       "2022-01-24  715.000000  716.400024  688.200012  704.599976\n",
       "2022-01-25  714.000000  755.000000  708.599976  752.200012\n",
       "2022-01-27  744.000000  777.000000  738.099976  773.849976\n",
       "\n",
       "[144 rows x 4 columns]"
      ]
     },
     "execution_count": 11,
     "metadata": {},
     "output_type": "execute_result"
    }
   ],
   "source": [
    "stk_data"
   ]
  },
  {
   "cell_type": "markdown",
   "id": "0799e251-d1a8-404d-96d5-98d3075dca6f",
   "metadata": {},
   "source": [
    "# Data Preprocessing"
   ]
  },
  {
   "cell_type": "code",
   "execution_count": 12,
   "id": "be88bb2d-df14-4bcc-aaa7-c11e4ffbb994",
   "metadata": {},
   "outputs": [
    {
     "name": "stdout",
     "output_type": "stream",
     "text": [
      "Length :  (144, 1)\n"
     ]
    }
   ],
   "source": [
    "column=\"Close\"\n",
    "from sklearn.preprocessing import MinMaxScaler\n",
    "ms = MinMaxScaler()\n",
    "data1=ms.fit_transform(stk_data[[column]])\n",
    "print(\"Length : \" ,data1.shape)"
   ]
  },
  {
   "cell_type": "code",
   "execution_count": 13,
   "id": "4b987d0f-a2e6-446c-bf5a-1a43656819e4",
   "metadata": {},
   "outputs": [
    {
     "data": {
      "text/plain": [
       "144"
      ]
     },
     "execution_count": 13,
     "metadata": {},
     "output_type": "execute_result"
    }
   ],
   "source": [
    "len(data1)"
   ]
  },
  {
   "cell_type": "markdown",
   "id": "a55f75b5-f861-48fb-8c65-c72b8066090e",
   "metadata": {},
   "source": [
    "# Train & Test split both input and output is same"
   ]
  },
  {
   "cell_type": "code",
   "execution_count": 14,
   "id": "95bc72ed-f36d-41c9-9235-9f0955cc67c6",
   "metadata": {},
   "outputs": [
    {
     "name": "stdout",
     "output_type": "stream",
     "text": [
      "115\n",
      "x_train length :  (115, 1)\n",
      "x_test length :  (29, 1)\n",
      "y_train length :  (115, 1)\n",
      "y_test length :  (29, 1)\n"
     ]
    }
   ],
   "source": [
    "training_size=round(len(data1)*0.80)\n",
    "print(training_size)\n",
    "x_train=data1[:training_size]\n",
    "x_test=data1[training_size:]\n",
    "print(\"x_train length : \", x_train.shape)\n",
    "print(\"x_test length : \" , x_test.shape)\n",
    "y_train=data1[:training_size]\n",
    "y_test=data1[training_size:]\n",
    "print(\"y_train length : \", y_train.shape)\n",
    "print(\"y_test length : \" , y_test.shape)"
   ]
  },
  {
   "cell_type": "code",
   "execution_count": null,
   "id": "e8ea4c04-e552-4436-8dfa-668667dd9b80",
   "metadata": {},
   "outputs": [],
   "source": []
  },
  {
   "cell_type": "code",
   "execution_count": 19,
   "id": "637f4a44-dbc7-4b0e-bf0f-202a90bf9316",
   "metadata": {},
   "outputs": [
    {
     "name": "stdout",
     "output_type": "stream",
     "text": [
      "[[0.49149503]\n",
      " [0.51314458]\n",
      " [0.56314433]\n",
      " [0.55283505]\n",
      " [0.57628891]\n",
      " [0.53247448]\n",
      " [0.49613402]\n",
      " [0.52835052]\n",
      " [0.6167527 ]\n",
      " [0.61314439]\n",
      " [0.6342786 ]\n",
      " [0.61881468]\n",
      " [0.53659813]\n",
      " [0.48788672]\n",
      " [0.49304136]\n",
      " [0.53762912]\n",
      " [0.5422681 ]\n",
      " [0.41546411]\n",
      " [0.37010334]\n",
      " [0.34097951]\n",
      " [0.2979384 ]\n",
      " [0.36108273]\n",
      " [0.45103093]\n",
      " [0.52938151]\n",
      " [0.50618563]\n",
      " [0.46262887]\n",
      " [0.53814446]\n",
      " [0.56932996]\n",
      " [0.56546398]\n",
      " [0.54768041]\n",
      " [0.56082499]\n",
      " [0.57164961]\n",
      " [0.54458775]\n",
      " [0.53247448]\n",
      " [0.45953621]\n",
      " [0.43814433]\n",
      " [0.49097938]\n",
      " [0.45335058]\n",
      " [0.49097938]\n",
      " [0.5221652 ]\n",
      " [0.68530934]\n",
      " [0.69793827]\n",
      " [0.76185592]\n",
      " [0.78144349]\n",
      " [0.75721662]\n",
      " [0.77164955]\n",
      " [0.70489691]\n",
      " [0.74020637]\n",
      " [0.71675283]\n",
      " [0.70747423]\n",
      " [0.73866005]\n",
      " [0.72319613]\n",
      " [0.78092784]\n",
      " [0.80541237]\n",
      " [0.74613402]\n",
      " [0.7435567 ]\n",
      " [0.70747423]\n",
      " [0.83015489]\n",
      " [0.75747429]\n",
      " [0.75180431]\n",
      " [0.71185586]\n",
      " [0.67551572]\n",
      " [0.59510316]\n",
      " [0.60335077]\n",
      " [0.65927848]\n",
      " [0.67783505]\n",
      " [0.65902081]\n",
      " [0.64948454]\n",
      " [0.67448472]\n",
      " [0.70128891]\n",
      " [0.7528353 ]\n",
      " [0.73969072]\n",
      " [0.77809285]\n",
      " [0.83608254]\n",
      " [0.77603118]\n",
      " [0.7922681 ]\n",
      " [0.80773202]\n",
      " [0.85360844]\n",
      " [1.        ]\n",
      " [0.98350541]\n",
      " [0.70309291]\n",
      " [0.55283505]\n",
      " [0.46855683]\n",
      " [0.52190722]\n",
      " [0.53994845]\n",
      " [0.5128866 ]\n",
      " [0.52500019]\n",
      " [0.51520625]\n",
      " [0.48427841]\n",
      " [0.5064433 ]\n",
      " [0.44819594]\n",
      " [0.43788666]\n",
      " [0.42345373]\n",
      " [0.38685592]\n",
      " [0.31572165]\n",
      " [0.28479381]\n",
      " [0.18195901]\n",
      " [0.17809304]\n",
      " [0.17551572]\n",
      " [0.14845386]\n",
      " [0.05489703]\n",
      " [0.        ]\n",
      " [0.02345386]\n",
      " [0.14690722]\n",
      " [0.12886598]\n",
      " [0.11288672]\n",
      " [0.06185567]\n",
      " [0.18505167]\n",
      " [0.2371134 ]\n",
      " [0.22087648]\n",
      " [0.19046398]\n",
      " [0.27268054]\n",
      " [0.30824767]\n",
      " [0.31649497]\n",
      " [0.30180438]]\n"
     ]
    }
   ],
   "source": [
    "print(y_train)"
   ]
  },
  {
   "cell_type": "code",
   "execution_count": 25,
   "id": "c1f4f136-0873-41f2-9efa-ebfa713b08af",
   "metadata": {},
   "outputs": [
    {
     "name": "stdout",
     "output_type": "stream",
     "text": [
      "        Close\n",
      "0    0.491495\n",
      "1    0.513145\n",
      "2    0.563144\n",
      "3    0.552835\n",
      "4    0.576289\n",
      "..        ...\n",
      "110  0.190464\n",
      "111  0.272681\n",
      "112  0.308248\n",
      "113  0.316495\n",
      "114  0.301804\n",
      "\n",
      "[115 rows x 1 columns]\n"
     ]
    }
   ],
   "source": [
    "import pandas as pd\n",
    "Actual_y_train=pd.DataFrame(index=range(len(y_train)),columns=[\"Close\"])\n",
    "for i in range(len(y_train)):\n",
    "    Actual_y_train.iloc[i]=y_train[i]\n",
    "print(Actual_y_train)"
   ]
  },
  {
   "cell_type": "code",
   "execution_count": null,
   "id": "8f19fbb3-776e-4107-81c1-50dd156de883",
   "metadata": {},
   "outputs": [],
   "source": []
  },
  {
   "cell_type": "code",
   "execution_count": 15,
   "id": "b1cb3faf-f7c7-476b-a11c-3139e9baf7f8",
   "metadata": {},
   "outputs": [
    {
     "name": "stdout",
     "output_type": "stream",
     "text": [
      "Lags : 1 , Tred : n \n",
      "RMSE-Testset: 0.17469631537953986\n",
      "maPe-Testset: 0.837827872469714\n",
      "_______________________________________\n",
      "Lags : 1 , Tred : t \n",
      "RMSE-Testset: 0.18443848166417132\n",
      "maPe-Testset: 0.8468560356050291\n",
      "_______________________________________\n",
      "Lags : 1 , Tred : c \n",
      "RMSE-Testset: 0.15479844835466888\n",
      "maPe-Testset: 0.9141076149675359\n",
      "_______________________________________\n",
      "Lags : 1 , Tred : ct \n",
      "RMSE-Testset: 0.19981669331978108\n",
      "maPe-Testset: 0.8633514560237955\n",
      "_______________________________________\n",
      "Lags : 2 , Tred : n \n",
      "RMSE-Testset: 0.1837154841262054\n",
      "maPe-Testset: 0.8348130514168346\n",
      "_______________________________________\n",
      "Lags : 2 , Tred : t \n",
      "RMSE-Testset: 0.15395466472520414\n",
      "maPe-Testset: 0.8155524119935292\n",
      "_______________________________________\n",
      "Lags : 2 , Tred : c \n",
      "RMSE-Testset: 0.16898642158275531\n",
      "maPe-Testset: 1.009578073491122\n",
      "_______________________________________\n",
      "Lags : 2 , Tred : ct \n",
      "RMSE-Testset: 0.18052764635120863\n",
      "maPe-Testset: 0.8521342115890455\n",
      "_______________________________________\n",
      "Lags : 3 , Tred : n \n",
      "RMSE-Testset: 0.18076986975565437\n",
      "maPe-Testset: 0.833001889527987\n",
      "_______________________________________\n",
      "Lags : 3 , Tred : t \n",
      "RMSE-Testset: 0.1616398220461231\n",
      "maPe-Testset: 0.8174373439231075\n",
      "_______________________________________\n",
      "Lags : 3 , Tred : c \n",
      "RMSE-Testset: 0.1589559835941601\n",
      "maPe-Testset: 0.9456323652806793\n",
      "_______________________________________\n",
      "Lags : 3 , Tred : ct \n",
      "RMSE-Testset: 0.18313622461842932\n",
      "maPe-Testset: 0.8496006206987461\n",
      "_______________________________________\n",
      "Lags : 4 , Tred : n \n",
      "RMSE-Testset: 0.17598228086700468\n",
      "maPe-Testset: 0.8170114694570052\n",
      "_______________________________________\n",
      "Lags : 4 , Tred : t \n",
      "RMSE-Testset: 0.18746461342621537\n",
      "maPe-Testset: 0.8259775424936463\n",
      "_______________________________________\n",
      "Lags : 4 , Tred : c \n",
      "RMSE-Testset: 0.15078420974127243\n",
      "maPe-Testset: 0.8812710544161975\n",
      "_______________________________________\n",
      "Lags : 4 , Tred : ct \n",
      "RMSE-Testset: 0.20035695347603558\n",
      "maPe-Testset: 0.8411777626719789\n",
      "_______________________________________\n"
     ]
    },
    {
     "name": "stderr",
     "output_type": "stream",
     "text": [
      "C:\\Users\\ELCOT\\anaconda3\\envs\\aidata\\Lib\\site-packages\\sklearn\\metrics\\_regression.py:483: FutureWarning: 'squared' is deprecated in version 1.4 and will be removed in 1.6. To calculate the root mean squared error, use the function'root_mean_squared_error'.\n",
      "  warnings.warn(\n",
      "C:\\Users\\ELCOT\\anaconda3\\envs\\aidata\\Lib\\site-packages\\sklearn\\metrics\\_regression.py:483: FutureWarning: 'squared' is deprecated in version 1.4 and will be removed in 1.6. To calculate the root mean squared error, use the function'root_mean_squared_error'.\n",
      "  warnings.warn(\n",
      "C:\\Users\\ELCOT\\anaconda3\\envs\\aidata\\Lib\\site-packages\\sklearn\\metrics\\_regression.py:483: FutureWarning: 'squared' is deprecated in version 1.4 and will be removed in 1.6. To calculate the root mean squared error, use the function'root_mean_squared_error'.\n",
      "  warnings.warn(\n",
      "C:\\Users\\ELCOT\\anaconda3\\envs\\aidata\\Lib\\site-packages\\sklearn\\metrics\\_regression.py:483: FutureWarning: 'squared' is deprecated in version 1.4 and will be removed in 1.6. To calculate the root mean squared error, use the function'root_mean_squared_error'.\n",
      "  warnings.warn(\n",
      "C:\\Users\\ELCOT\\anaconda3\\envs\\aidata\\Lib\\site-packages\\sklearn\\metrics\\_regression.py:483: FutureWarning: 'squared' is deprecated in version 1.4 and will be removed in 1.6. To calculate the root mean squared error, use the function'root_mean_squared_error'.\n",
      "  warnings.warn(\n",
      "C:\\Users\\ELCOT\\anaconda3\\envs\\aidata\\Lib\\site-packages\\sklearn\\metrics\\_regression.py:483: FutureWarning: 'squared' is deprecated in version 1.4 and will be removed in 1.6. To calculate the root mean squared error, use the function'root_mean_squared_error'.\n",
      "  warnings.warn(\n",
      "C:\\Users\\ELCOT\\anaconda3\\envs\\aidata\\Lib\\site-packages\\sklearn\\metrics\\_regression.py:483: FutureWarning: 'squared' is deprecated in version 1.4 and will be removed in 1.6. To calculate the root mean squared error, use the function'root_mean_squared_error'.\n",
      "  warnings.warn(\n",
      "C:\\Users\\ELCOT\\anaconda3\\envs\\aidata\\Lib\\site-packages\\sklearn\\metrics\\_regression.py:483: FutureWarning: 'squared' is deprecated in version 1.4 and will be removed in 1.6. To calculate the root mean squared error, use the function'root_mean_squared_error'.\n",
      "  warnings.warn(\n",
      "C:\\Users\\ELCOT\\anaconda3\\envs\\aidata\\Lib\\site-packages\\sklearn\\metrics\\_regression.py:483: FutureWarning: 'squared' is deprecated in version 1.4 and will be removed in 1.6. To calculate the root mean squared error, use the function'root_mean_squared_error'.\n",
      "  warnings.warn(\n",
      "C:\\Users\\ELCOT\\anaconda3\\envs\\aidata\\Lib\\site-packages\\sklearn\\metrics\\_regression.py:483: FutureWarning: 'squared' is deprecated in version 1.4 and will be removed in 1.6. To calculate the root mean squared error, use the function'root_mean_squared_error'.\n",
      "  warnings.warn(\n",
      "C:\\Users\\ELCOT\\anaconda3\\envs\\aidata\\Lib\\site-packages\\sklearn\\metrics\\_regression.py:483: FutureWarning: 'squared' is deprecated in version 1.4 and will be removed in 1.6. To calculate the root mean squared error, use the function'root_mean_squared_error'.\n",
      "  warnings.warn(\n",
      "C:\\Users\\ELCOT\\anaconda3\\envs\\aidata\\Lib\\site-packages\\sklearn\\metrics\\_regression.py:483: FutureWarning: 'squared' is deprecated in version 1.4 and will be removed in 1.6. To calculate the root mean squared error, use the function'root_mean_squared_error'.\n",
      "  warnings.warn(\n",
      "C:\\Users\\ELCOT\\anaconda3\\envs\\aidata\\Lib\\site-packages\\sklearn\\metrics\\_regression.py:483: FutureWarning: 'squared' is deprecated in version 1.4 and will be removed in 1.6. To calculate the root mean squared error, use the function'root_mean_squared_error'.\n",
      "  warnings.warn(\n",
      "C:\\Users\\ELCOT\\anaconda3\\envs\\aidata\\Lib\\site-packages\\sklearn\\metrics\\_regression.py:483: FutureWarning: 'squared' is deprecated in version 1.4 and will be removed in 1.6. To calculate the root mean squared error, use the function'root_mean_squared_error'.\n",
      "  warnings.warn(\n",
      "C:\\Users\\ELCOT\\anaconda3\\envs\\aidata\\Lib\\site-packages\\sklearn\\metrics\\_regression.py:483: FutureWarning: 'squared' is deprecated in version 1.4 and will be removed in 1.6. To calculate the root mean squared error, use the function'root_mean_squared_error'.\n",
      "  warnings.warn(\n",
      "C:\\Users\\ELCOT\\anaconda3\\envs\\aidata\\Lib\\site-packages\\sklearn\\metrics\\_regression.py:483: FutureWarning: 'squared' is deprecated in version 1.4 and will be removed in 1.6. To calculate the root mean squared error, use the function'root_mean_squared_error'.\n",
      "  warnings.warn(\n"
     ]
    }
   ],
   "source": [
    "from sklearn.metrics import mean_squared_error\n",
    "from statsmodels.tsa.ar_model import AutoReg\n",
    "lags=[1,2,3,4]\n",
    "trends=['n','t','c','ct']\n",
    "for i in lags:\n",
    "    for td in trends:\n",
    "        model=AutoReg(x_train,lags=i,trend=td)\n",
    "        model_fit=model.fit()\n",
    "        # making prediction\n",
    "        y_pred=model_fit.predict(len(x_train),len(data1)-1)\n",
    "        from stockFunctions import rmsemape\n",
    "        print(\"Lags : {} , Tred : {} \". format(i,td))\n",
    "        rmsemape(y_test,y_pred)\n",
    "        print(\"_______________________________________\")"
   ]
  },
  {
   "cell_type": "code",
   "execution_count": 16,
   "id": "b8edde38-c102-4c6d-b95a-9f881f8d379e",
   "metadata": {},
   "outputs": [
    {
     "name": "stdout",
     "output_type": "stream",
     "text": [
      "Lags : 1 , Tred : ct \n",
      "RMSE-Testset: 0.19981669331978108\n",
      "maPe-Testset: 0.8633514560237955\n",
      "_______________________________________\n"
     ]
    },
    {
     "name": "stderr",
     "output_type": "stream",
     "text": [
      "C:\\Users\\ELCOT\\anaconda3\\envs\\aidata\\Lib\\site-packages\\sklearn\\metrics\\_regression.py:483: FutureWarning: 'squared' is deprecated in version 1.4 and will be removed in 1.6. To calculate the root mean squared error, use the function'root_mean_squared_error'.\n",
      "  warnings.warn(\n"
     ]
    }
   ],
   "source": [
    "i=1\n",
    "td='ct'\n",
    "model=AutoReg(x_train,lags=i,trend=td)\n",
    "model_fit=model.fit()\n",
    "        # making prediction\n",
    "y_pred=model_fit.predict(len(x_train),len(data1)-1)\n",
    "from stockFunctions import rmsemape\n",
    "print(\"Lags : {} , Tred : {} \". format(i,td))\n",
    "rmsemape(y_test,y_pred)\n",
    "print(\"_______________________________________\")"
   ]
  },
  {
   "cell_type": "code",
   "execution_count": 17,
   "id": "a071561d-f318-4e5a-8a2b-2cc98f1a5f84",
   "metadata": {},
   "outputs": [
    {
     "data": {
      "image/png": "[encoded data removed]",
      "text/plain": [
       "<Figure size 1000x500 with 1 Axes>"
      ]
     },
     "metadata": {},
     "output_type": "display_data"
    }
   ],
   "source": [
    "from stockFunctions import graph\n",
    "graph(y_test,y_pred,\"Actual\",\"Predicted\",\"Axis_bank\",\"Days\",\"Prices\")\n"
   ]
  },
  {
   "cell_type": "code",
   "execution_count": null,
   "id": "b959e582-5b1e-4a83-9056-60a52a262ddf",
   "metadata": {},
   "outputs": [],
   "source": []
  },
  {
   "cell_type": "code",
   "execution_count": 27,
   "id": "7c427cfe-b044-44be-b4ad-accfbfdb5aaa",
   "metadata": {},
   "outputs": [],
   "source": [
    "from stockFunctions import conversionSingle\n",
    "aTestNormTable=conversionSingle(y_test,[column])"
   ]
  },
  {
   "cell_type": "code",
   "execution_count": 28,
   "id": "8aae3cfc-376c-4066-b3e1-3abaec51a143",
   "metadata": {},
   "outputs": [
    {
     "data": {
      "text/html": [
       "<div>\n",
       "<style scoped>\n",
       "    .dataframe tbody tr th:only-of-type {\n",
       "        vertical-align: middle;\n",
       "    }\n",
       "\n",
       "    .dataframe tbody tr th {\n",
       "        vertical-align: top;\n",
       "    }\n",
       "\n",
       "    .dataframe thead th {\n",
       "        text-align: right;\n",
       "    }\n",
       "</style>\n",
       "<table border=\"1\" class=\"dataframe\">\n",
       "  <thead>\n",
       "    <tr style=\"text-align: right;\">\n",
       "      <th></th>\n",
       "      <th>Close</th>\n",
       "    </tr>\n",
       "  </thead>\n",
       "  <tbody>\n",
       "    <tr>\n",
       "      <th>0</th>\n",
       "      <td>0.194846</td>\n",
       "    </tr>\n",
       "    <tr>\n",
       "      <th>1</th>\n",
       "      <td>0.119845</td>\n",
       "    </tr>\n",
       "    <tr>\n",
       "      <th>2</th>\n",
       "      <td>0.076031</td>\n",
       "    </tr>\n",
       "    <tr>\n",
       "      <th>3</th>\n",
       "      <td>0.094072</td>\n",
       "    </tr>\n",
       "    <tr>\n",
       "      <th>4</th>\n",
       "      <td>0.142784</td>\n",
       "    </tr>\n",
       "    <tr>\n",
       "      <th>5</th>\n",
       "      <td>0.084536</td>\n",
       "    </tr>\n",
       "    <tr>\n",
       "      <th>6</th>\n",
       "      <td>0.108505</td>\n",
       "    </tr>\n",
       "    <tr>\n",
       "      <th>7</th>\n",
       "      <td>0.125516</td>\n",
       "    </tr>\n",
       "    <tr>\n",
       "      <th>8</th>\n",
       "      <td>0.1</td>\n",
       "    </tr>\n",
       "    <tr>\n",
       "      <th>9</th>\n",
       "      <td>0.091495</td>\n",
       "    </tr>\n",
       "    <tr>\n",
       "      <th>10</th>\n",
       "      <td>0.141495</td>\n",
       "    </tr>\n",
       "    <tr>\n",
       "      <th>11</th>\n",
       "      <td>0.233247</td>\n",
       "    </tr>\n",
       "    <tr>\n",
       "      <th>12</th>\n",
       "      <td>0.299227</td>\n",
       "    </tr>\n",
       "    <tr>\n",
       "      <th>13</th>\n",
       "      <td>0.390722</td>\n",
       "    </tr>\n",
       "    <tr>\n",
       "      <th>14</th>\n",
       "      <td>0.408247</td>\n",
       "    </tr>\n",
       "    <tr>\n",
       "      <th>15</th>\n",
       "      <td>0.409794</td>\n",
       "    </tr>\n",
       "    <tr>\n",
       "      <th>16</th>\n",
       "      <td>0.47268</td>\n",
       "    </tr>\n",
       "    <tr>\n",
       "      <th>17</th>\n",
       "      <td>0.475</td>\n",
       "    </tr>\n",
       "    <tr>\n",
       "      <th>18</th>\n",
       "      <td>0.493557</td>\n",
       "    </tr>\n",
       "    <tr>\n",
       "      <th>19</th>\n",
       "      <td>0.461856</td>\n",
       "    </tr>\n",
       "    <tr>\n",
       "      <th>20</th>\n",
       "      <td>0.363918</td>\n",
       "    </tr>\n",
       "    <tr>\n",
       "      <th>21</th>\n",
       "      <td>0.317268</td>\n",
       "    </tr>\n",
       "    <tr>\n",
       "      <th>22</th>\n",
       "      <td>0.381959</td>\n",
       "    </tr>\n",
       "    <tr>\n",
       "      <th>23</th>\n",
       "      <td>0.404639</td>\n",
       "    </tr>\n",
       "    <tr>\n",
       "      <th>24</th>\n",
       "      <td>0.401031</td>\n",
       "    </tr>\n",
       "    <tr>\n",
       "      <th>25</th>\n",
       "      <td>0.316495</td>\n",
       "    </tr>\n",
       "    <tr>\n",
       "      <th>26</th>\n",
       "      <td>0.275773</td>\n",
       "    </tr>\n",
       "    <tr>\n",
       "      <th>27</th>\n",
       "      <td>0.521134</td>\n",
       "    </tr>\n",
       "    <tr>\n",
       "      <th>28</th>\n",
       "      <td>0.632732</td>\n",
       "    </tr>\n",
       "  </tbody>\n",
       "</table>\n",
       "</div>"
      ],
      "text/plain": [
       "       Close\n",
       "0   0.194846\n",
       "1   0.119845\n",
       "2   0.076031\n",
       "3   0.094072\n",
       "4   0.142784\n",
       "5   0.084536\n",
       "6   0.108505\n",
       "7   0.125516\n",
       "8        0.1\n",
       "9   0.091495\n",
       "10  0.141495\n",
       "11  0.233247\n",
       "12  0.299227\n",
       "13  0.390722\n",
       "14  0.408247\n",
       "15  0.409794\n",
       "16   0.47268\n",
       "17     0.475\n",
       "18  0.493557\n",
       "19  0.461856\n",
       "20  0.363918\n",
       "21  0.317268\n",
       "22  0.381959\n",
       "23  0.404639\n",
       "24  0.401031\n",
       "25  0.316495\n",
       "26  0.275773\n",
       "27  0.521134\n",
       "28  0.632732"
      ]
     },
     "execution_count": 28,
     "metadata": {},
     "output_type": "execute_result"
    }
   ],
   "source": [
    "aTestNormTable"
   ]
  },
  {
   "cell_type": "code",
   "execution_count": 30,
   "id": "1124f634-35d5-4b4c-894a-5bd6c054b12a",
   "metadata": {},
   "outputs": [],
   "source": [
    "actual_stock_price_test_ori=ms.inverse_transform(aTestNormTable)"
   ]
  },
  {
   "cell_type": "code",
   "execution_count": 31,
   "id": "30eaada4-d692-434e-9075-8b7308df2d59",
   "metadata": {},
   "outputs": [],
   "source": [
    "actual_stock_price_test_oriA=conversionSingle(actual_stock_price_test_ori,[column])"
   ]
  },
  {
   "cell_type": "code",
   "execution_count": 34,
   "id": "ee3e6b03-1829-4f6d-9650-a84772120b37",
   "metadata": {},
   "outputs": [],
   "source": [
    "from stockFunctions import conversionSingle\n",
    "pTestNormTable=conversionSingle(y_pred,[column])\n",
    "predicted_stock_price_test_ori=ms.inverse_transform(pTestNormTable)\n",
    "predicted_stock_price_test_oriP=conversionSingle(predicted_stock_price_test_ori,[column])"
   ]
  },
  {
   "cell_type": "code",
   "execution_count": 35,
   "id": "046cd212-e917-4996-ae8d-57ed7af22add",
   "metadata": {},
   "outputs": [
    {
     "data": {
      "image/png": "[encoded data removed]",
      "text/plain": [
       "<Figure size 1000x500 with 1 Axes>"
      ]
     },
     "metadata": {},
     "output_type": "display_data"
    }
   ],
   "source": [
    "from stockFunctions import graph\n",
    "graph(actual_stock_price_test_oriA,predicted_stock_price_test_oriP,\"Actual\",\"Predicted\",\"Axis-Bank\",\"Days\",\"Prices\")"
   ]
  },
  {
   "cell_type": "code",
   "execution_count": 36,
   "id": "d53b0a35-f873-43a1-85c2-ada0af5baf25",
   "metadata": {},
   "outputs": [
    {
     "name": "stdout",
     "output_type": "stream",
     "text": [
      "RMSE-Testset: 38.76443850403755\n",
      "maPe-Testset: 0.04917716677548714\n"
     ]
    },
    {
     "name": "stderr",
     "output_type": "stream",
     "text": [
      "C:\\Users\\ELCOT\\anaconda3\\envs\\aidata\\Lib\\site-packages\\sklearn\\metrics\\_regression.py:483: FutureWarning: 'squared' is deprecated in version 1.4 and will be removed in 1.6. To calculate the root mean squared error, use the function'root_mean_squared_error'.\n",
      "  warnings.warn(\n"
     ]
    }
   ],
   "source": [
    "from stockFunctions import rmsemape\n",
    "rmsemape(actual_stock_price_test_oriA,predicted_stock_price_test_oriP)"
   ]
  },
  {
   "cell_type": "code",
   "execution_count": 37,
   "id": "0a5295ff-4375-4218-92ba-73fd23c1f9e7",
   "metadata": {},
   "outputs": [],
   "source": [
    "forecast=model_fit.predict(len(data1), len(data1)+3)"
   ]
  },
  {
   "cell_type": "code",
   "execution_count": 38,
   "id": "1b65584d-e9f7-469f-9913-46951dc6bcd5",
   "metadata": {},
   "outputs": [
    {
     "data": {
      "text/plain": [
       "array([0.16657305, 0.16182356, 0.15706534, 0.15229879])"
      ]
     },
     "execution_count": 38,
     "metadata": {},
     "output_type": "execute_result"
    }
   ],
   "source": [
    "forecast"
   ]
  },
  {
   "cell_type": "code",
   "execution_count": 40,
   "id": "4ef3b7ed-67fd-484d-8f05-7aadbee9be33",
   "metadata": {},
   "outputs": [],
   "source": [
    "from stockFunctions import conversionSingle\n",
    "fTestNormTable=conversionSingle(forecast,[\"Closefore\"])\n",
    "forecast_stock_price_test_ori=ms.inverse_transform(fTestNormTable)\n",
    "forecast_stock_price_test_oriF=conversionSingle(forecast_stock_price_test_ori,[\"Closefore\"])"
   ]
  },
  {
   "cell_type": "code",
   "execution_count": 41,
   "id": "f5eceba0-f12f-4c2a-b094-ce008a6d2ba4",
   "metadata": {},
   "outputs": [
    {
     "data": {
      "text/html": [
       "<div>\n",
       "<style scoped>\n",
       "    .dataframe tbody tr th:only-of-type {\n",
       "        vertical-align: middle;\n",
       "    }\n",
       "\n",
       "    .dataframe tbody tr th {\n",
       "        vertical-align: top;\n",
       "    }\n",
       "\n",
       "    .dataframe thead th {\n",
       "        text-align: right;\n",
       "    }\n",
       "</style>\n",
       "<table border=\"1\" class=\"dataframe\">\n",
       "  <thead>\n",
       "    <tr style=\"text-align: right;\">\n",
       "      <th></th>\n",
       "      <th>Closefore</th>\n",
       "    </tr>\n",
       "  </thead>\n",
       "  <tbody>\n",
       "    <tr>\n",
       "      <th>0</th>\n",
       "      <td>683.415147</td>\n",
       "    </tr>\n",
       "    <tr>\n",
       "      <th>1</th>\n",
       "      <td>682.493746</td>\n",
       "    </tr>\n",
       "    <tr>\n",
       "      <th>2</th>\n",
       "      <td>681.570651</td>\n",
       "    </tr>\n",
       "    <tr>\n",
       "      <th>3</th>\n",
       "      <td>680.645941</td>\n",
       "    </tr>\n",
       "  </tbody>\n",
       "</table>\n",
       "</div>"
      ],
      "text/plain": [
       "    Closefore\n",
       "0  683.415147\n",
       "1  682.493746\n",
       "2  681.570651\n",
       "3  680.645941"
      ]
     },
     "execution_count": 41,
     "metadata": {},
     "output_type": "execute_result"
    }
   ],
   "source": [
    "forecast_stock_price_test_oriF"
   ]
  },
  {
   "cell_type": "code",
   "execution_count": 42,
   "id": "684559ae-ade9-4f65-bdc3-923f18f71cd1",
   "metadata": {},
   "outputs": [],
   "source": [
    "forecast_stock_price_test_oriF.to_csv(\"CloseAR.csv\",index=False)"
   ]
  },
  {
   "cell_type": "code",
   "execution_count": 43,
   "id": "90de5b34-7d70-4667-815a-92dc45bdb657",
   "metadata": {},
   "outputs": [
    {
     "data": {
      "text/plain": [
       "[<matplotlib.lines.Line2D at 0x1cb190c3950>]"
      ]
     },
     "execution_count": 43,
     "metadata": {},
     "output_type": "execute_result"
    },
    {
     "data": {
      "image/png": "[encoded data removed]",
      "text/plain": [
       "<Figure size 1000x500 with 1 Axes>"
      ]
     },
     "metadata": {},
     "output_type": "display_data"
    }
   ],
   "source": [
    "import matplotlib.pyplot as plt\n",
    "plt.figure(figsize=(10,5))\n",
    "plt.plot(actual_stock_price_test_oriA[116:145], color = 'blue', label=\"Actual\")\n",
    "plt.plot(forecast_stock_price_test_oriF, color = 'red', label =\"Predicted\")"
   ]
  },
  {
   "cell_type": "code",
   "execution_count": null,
   "id": "b448ad93-931c-409e-8bed-9a9f1088cbd6",
   "metadata": {},
   "outputs": [],
   "source": []
  }
 ],
 "metadata": {
  "kernelspec": {
   "display_name": "Python 3 (ipykernel)",
   "language": "python",
   "name": "python3"
  },
  "language_info": {
   "codemirror_mode": {
    "name": "ipython",
    "version": 3
   },
   "file_extension": ".py",
   "mimetype": "text/x-python",
   "name": "python",
   "nbconvert_exporter": "python",
   "pygments_lexer": "ipython3",
   "version": "3.11.2"
  }
 },
 "nbformat": 4,
 "nbformat_minor": 5
}
