{
 "cells": [
  {
   "cell_type": "code",
   "execution_count": 1,
   "id": "743ca50c-e9e8-42a4-865a-3f48227c2795",
   "metadata": {},
   "outputs": [],
   "source": [
    "import pandas as pd\n",
    "import datetime as dt\n"
   ]
  },
  {
   "cell_type": "code",
   "execution_count": 2,
   "id": "b329b8d5-eceb-47dc-bac6-ec03e03fa84f",
   "metadata": {},
   "outputs": [],
   "source": [
    "stk_data=pd.read_csv(\"AxisBank_Stock.csv\")"
   ]
  },
  {
   "cell_type": "code",
   "execution_count": 3,
   "id": "807f8b7f-8a62-45c4-ac5c-509fbeaac022",
   "metadata": {},
   "outputs": [
    {
     "data": {
      "text/html": [
       "<div>\n",
       "<style scoped>\n",
       "    .dataframe tbody tr th:only-of-type {\n",
       "        vertical-align: middle;\n",
       "    }\n",
       "\n",
       "    .dataframe tbody tr th {\n",
       "        vertical-align: top;\n",
       "    }\n",
       "\n",
       "    .dataframe thead th {\n",
       "        text-align: right;\n",
       "    }\n",
       "</style>\n",
       "<table border=\"1\" class=\"dataframe\">\n",
       "  <thead>\n",
       "    <tr style=\"text-align: right;\">\n",
       "      <th></th>\n",
       "      <th>Open</th>\n",
       "      <th>High</th>\n",
       "      <th>Low</th>\n",
       "      <th>Close</th>\n",
       "      <th>Adj Close</th>\n",
       "      <th>Volume</th>\n",
       "    </tr>\n",
       "  </thead>\n",
       "  <tbody>\n",
       "    <tr>\n",
       "      <th>0</th>\n",
       "      <td>750.000000</td>\n",
       "      <td>754.400024</td>\n",
       "      <td>744.500000</td>\n",
       "      <td>746.450012</td>\n",
       "      <td>744.555725</td>\n",
       "      <td>5695690</td>\n",
       "    </tr>\n",
       "    <tr>\n",
       "      <th>1</th>\n",
       "      <td>747.599976</td>\n",
       "      <td>752.849976</td>\n",
       "      <td>744.000000</td>\n",
       "      <td>750.650024</td>\n",
       "      <td>748.745117</td>\n",
       "      <td>3557647</td>\n",
       "    </tr>\n",
       "    <tr>\n",
       "      <th>2</th>\n",
       "      <td>757.099976</td>\n",
       "      <td>762.000000</td>\n",
       "      <td>753.400024</td>\n",
       "      <td>760.349976</td>\n",
       "      <td>758.420410</td>\n",
       "      <td>4680089</td>\n",
       "    </tr>\n",
       "    <tr>\n",
       "      <th>3</th>\n",
       "      <td>757.000000</td>\n",
       "      <td>767.000000</td>\n",
       "      <td>755.200012</td>\n",
       "      <td>758.349976</td>\n",
       "      <td>756.425476</td>\n",
       "      <td>5529485</td>\n",
       "    </tr>\n",
       "    <tr>\n",
       "      <th>4</th>\n",
       "      <td>755.900024</td>\n",
       "      <td>764.000000</td>\n",
       "      <td>752.250000</td>\n",
       "      <td>762.900024</td>\n",
       "      <td>760.963989</td>\n",
       "      <td>3573368</td>\n",
       "    </tr>\n",
       "    <tr>\n",
       "      <th>...</th>\n",
       "      <td>...</td>\n",
       "      <td>...</td>\n",
       "      <td>...</td>\n",
       "      <td>...</td>\n",
       "      <td>...</td>\n",
       "      <td>...</td>\n",
       "    </tr>\n",
       "    <tr>\n",
       "      <th>139</th>\n",
       "      <td>731.049988</td>\n",
       "      <td>737.150024</td>\n",
       "      <td>722.150024</td>\n",
       "      <td>728.900024</td>\n",
       "      <td>727.050232</td>\n",
       "      <td>8505400</td>\n",
       "    </tr>\n",
       "    <tr>\n",
       "      <th>140</th>\n",
       "      <td>722.000000</td>\n",
       "      <td>725.250000</td>\n",
       "      <td>708.049988</td>\n",
       "      <td>712.500000</td>\n",
       "      <td>710.691895</td>\n",
       "      <td>10689060</td>\n",
       "    </tr>\n",
       "    <tr>\n",
       "      <th>141</th>\n",
       "      <td>715.000000</td>\n",
       "      <td>716.400024</td>\n",
       "      <td>688.200012</td>\n",
       "      <td>704.599976</td>\n",
       "      <td>702.811890</td>\n",
       "      <td>8812501</td>\n",
       "    </tr>\n",
       "    <tr>\n",
       "      <th>142</th>\n",
       "      <td>714.000000</td>\n",
       "      <td>755.000000</td>\n",
       "      <td>708.599976</td>\n",
       "      <td>752.200012</td>\n",
       "      <td>750.291138</td>\n",
       "      <td>38088158</td>\n",
       "    </tr>\n",
       "    <tr>\n",
       "      <th>143</th>\n",
       "      <td>744.000000</td>\n",
       "      <td>777.000000</td>\n",
       "      <td>738.099976</td>\n",
       "      <td>773.849976</td>\n",
       "      <td>771.886169</td>\n",
       "      <td>34927774</td>\n",
       "    </tr>\n",
       "  </tbody>\n",
       "</table>\n",
       "<p>144 rows × 6 columns</p>\n",
       "</div>"
      ],
      "text/plain": [
       "           Open        High         Low       Close   Adj Close    Volume\n",
       "0    750.000000  754.400024  744.500000  746.450012  744.555725   5695690\n",
       "1    747.599976  752.849976  744.000000  750.650024  748.745117   3557647\n",
       "2    757.099976  762.000000  753.400024  760.349976  758.420410   4680089\n",
       "3    757.000000  767.000000  755.200012  758.349976  756.425476   5529485\n",
       "4    755.900024  764.000000  752.250000  762.900024  760.963989   3573368\n",
       "..          ...         ...         ...         ...         ...       ...\n",
       "139  731.049988  737.150024  722.150024  728.900024  727.050232   8505400\n",
       "140  722.000000  725.250000  708.049988  712.500000  710.691895  10689060\n",
       "141  715.000000  716.400024  688.200012  704.599976  702.811890   8812501\n",
       "142  714.000000  755.000000  708.599976  752.200012  750.291138  38088158\n",
       "143  744.000000  777.000000  738.099976  773.849976  771.886169  34927774\n",
       "\n",
       "[144 rows x 6 columns]"
      ]
     },
     "execution_count": 3,
     "metadata": {},
     "output_type": "execute_result"
    }
   ],
   "source": [
    "stk_data"
   ]
  },
  {
   "cell_type": "code",
   "execution_count": 4,
   "id": "faa9bbe0-7d66-4a64-a366-e20624e7bbca",
   "metadata": {},
   "outputs": [],
   "source": [
    "stkdata=stk_data[[\"Open\",\"High\",\"Low\",\"Close\"]]\n"
   ]
  },
  {
   "cell_type": "code",
   "execution_count": 5,
   "id": "1390804c-04ca-4337-8ec5-a0c613de7f33",
   "metadata": {},
   "outputs": [
    {
     "data": {
      "text/html": [
       "<div>\n",
       "<style scoped>\n",
       "    .dataframe tbody tr th:only-of-type {\n",
       "        vertical-align: middle;\n",
       "    }\n",
       "\n",
       "    .dataframe tbody tr th {\n",
       "        vertical-align: top;\n",
       "    }\n",
       "\n",
       "    .dataframe thead th {\n",
       "        text-align: right;\n",
       "    }\n",
       "</style>\n",
       "<table border=\"1\" class=\"dataframe\">\n",
       "  <thead>\n",
       "    <tr style=\"text-align: right;\">\n",
       "      <th></th>\n",
       "      <th>Open</th>\n",
       "      <th>High</th>\n",
       "      <th>Low</th>\n",
       "      <th>Close</th>\n",
       "    </tr>\n",
       "  </thead>\n",
       "  <tbody>\n",
       "    <tr>\n",
       "      <th>0</th>\n",
       "      <td>750.000000</td>\n",
       "      <td>754.400024</td>\n",
       "      <td>744.500000</td>\n",
       "      <td>746.450012</td>\n",
       "    </tr>\n",
       "    <tr>\n",
       "      <th>1</th>\n",
       "      <td>747.599976</td>\n",
       "      <td>752.849976</td>\n",
       "      <td>744.000000</td>\n",
       "      <td>750.650024</td>\n",
       "    </tr>\n",
       "    <tr>\n",
       "      <th>2</th>\n",
       "      <td>757.099976</td>\n",
       "      <td>762.000000</td>\n",
       "      <td>753.400024</td>\n",
       "      <td>760.349976</td>\n",
       "    </tr>\n",
       "    <tr>\n",
       "      <th>3</th>\n",
       "      <td>757.000000</td>\n",
       "      <td>767.000000</td>\n",
       "      <td>755.200012</td>\n",
       "      <td>758.349976</td>\n",
       "    </tr>\n",
       "    <tr>\n",
       "      <th>4</th>\n",
       "      <td>755.900024</td>\n",
       "      <td>764.000000</td>\n",
       "      <td>752.250000</td>\n",
       "      <td>762.900024</td>\n",
       "    </tr>\n",
       "    <tr>\n",
       "      <th>...</th>\n",
       "      <td>...</td>\n",
       "      <td>...</td>\n",
       "      <td>...</td>\n",
       "      <td>...</td>\n",
       "    </tr>\n",
       "    <tr>\n",
       "      <th>139</th>\n",
       "      <td>731.049988</td>\n",
       "      <td>737.150024</td>\n",
       "      <td>722.150024</td>\n",
       "      <td>728.900024</td>\n",
       "    </tr>\n",
       "    <tr>\n",
       "      <th>140</th>\n",
       "      <td>722.000000</td>\n",
       "      <td>725.250000</td>\n",
       "      <td>708.049988</td>\n",
       "      <td>712.500000</td>\n",
       "    </tr>\n",
       "    <tr>\n",
       "      <th>141</th>\n",
       "      <td>715.000000</td>\n",
       "      <td>716.400024</td>\n",
       "      <td>688.200012</td>\n",
       "      <td>704.599976</td>\n",
       "    </tr>\n",
       "    <tr>\n",
       "      <th>142</th>\n",
       "      <td>714.000000</td>\n",
       "      <td>755.000000</td>\n",
       "      <td>708.599976</td>\n",
       "      <td>752.200012</td>\n",
       "    </tr>\n",
       "    <tr>\n",
       "      <th>143</th>\n",
       "      <td>744.000000</td>\n",
       "      <td>777.000000</td>\n",
       "      <td>738.099976</td>\n",
       "      <td>773.849976</td>\n",
       "    </tr>\n",
       "  </tbody>\n",
       "</table>\n",
       "<p>144 rows × 4 columns</p>\n",
       "</div>"
      ],
      "text/plain": [
       "           Open        High         Low       Close\n",
       "0    750.000000  754.400024  744.500000  746.450012\n",
       "1    747.599976  752.849976  744.000000  750.650024\n",
       "2    757.099976  762.000000  753.400024  760.349976\n",
       "3    757.000000  767.000000  755.200012  758.349976\n",
       "4    755.900024  764.000000  752.250000  762.900024\n",
       "..          ...         ...         ...         ...\n",
       "139  731.049988  737.150024  722.150024  728.900024\n",
       "140  722.000000  725.250000  708.049988  712.500000\n",
       "141  715.000000  716.400024  688.200012  704.599976\n",
       "142  714.000000  755.000000  708.599976  752.200012\n",
       "143  744.000000  777.000000  738.099976  773.849976\n",
       "\n",
       "[144 rows x 4 columns]"
      ]
     },
     "execution_count": 5,
     "metadata": {},
     "output_type": "execute_result"
    }
   ],
   "source": [
    "stkdata"
   ]
  },
  {
   "cell_type": "code",
   "execution_count": 6,
   "id": "e9b702e7-f14e-4f4d-abe1-0c7165440c8e",
   "metadata": {},
   "outputs": [
    {
     "name": "stdout",
     "output_type": "stream",
     "text": [
      "Length :  (144, 1)\n"
     ]
    }
   ],
   "source": [
    "column=\"Close\"\n",
    "from sklearn.preprocessing import MinMaxScaler\n",
    "ms=MinMaxScaler()\n",
    "data1=ms.fit_transform(stk_data[[column]])\n",
    "print(\"Length : \",data1.shape)"
   ]
  },
  {
   "cell_type": "code",
   "execution_count": 7,
   "id": "e56036fd-e301-4ad4-9329-aa61c78ec0b0",
   "metadata": {},
   "outputs": [
    {
     "name": "stdout",
     "output_type": "stream",
     "text": [
      "Training Size :  115\n",
      "x_train length :  (115, 1)\n",
      "x_test length :  (29, 1)\n",
      "y_train length :  (115, 1)\n",
      "y_test length :  (29, 1)\n"
     ]
    }
   ],
   "source": [
    "training_size=round(len(data1)*0.80)\n",
    "print(\"Training Size : \",training_size)\n",
    "x_train=data1[:training_size]\n",
    "x_test=data1[training_size:]\n",
    "print(\"x_train length : \", x_train.shape)\n",
    "print(\"x_test length : \" , x_test.shape)\n",
    "y_train=data1[:training_size]\n",
    "y_test=data1[training_size:]\n",
    "print(\"y_train length : \", y_train.shape)\n",
    "print(\"y_test length : \" , y_test.shape)"
   ]
  },
  {
   "cell_type": "code",
   "execution_count": 8,
   "id": "d7041464-752a-461a-a25d-febf4578c8d7",
   "metadata": {},
   "outputs": [],
   "source": [
    "import warnings\n",
    "warnings.filterwarnings(\"ignore\")"
   ]
  },
  {
   "cell_type": "code",
   "execution_count": 9,
   "id": "edf88c78-ff7d-48a2-b1e1-4ef33c2345d9",
   "metadata": {},
   "outputs": [
    {
     "name": "stdout",
     "output_type": "stream",
     "text": [
      "Order : (1, 0, 1) , Tred : n \n",
      "RMSE-Testset: 0.18139386118601558\n",
      "maPe-Testset: 0.8340463380177249\n",
      "_______________________________________\n",
      "Order : (1, 0, 1) , Tred : t \n",
      "RMSE-Testset: 0.1494480463296969\n",
      "maPe-Testset: 0.8356268673075324\n",
      "_______________________________________\n",
      "Order : (1, 0, 1) , Tred : c \n",
      "RMSE-Testset: 0.16944993422580587\n",
      "maPe-Testset: 1.0129540578419205\n",
      "_______________________________________\n",
      "Order : (1, 0, 1) , Tred : ct \n",
      "RMSE-Testset: 0.15807732830320823\n",
      "maPe-Testset: 0.8616412634862065\n",
      "_______________________________________\n"
     ]
    },
    {
     "name": "stderr",
     "output_type": "stream",
     "text": [
      "C:\\Users\\ELCOT\\anaconda3\\envs\\aidata\\Lib\\site-packages\\statsmodels\\base\\model.py:607: ConvergenceWarning: Maximum Likelihood optimization failed to converge. Check mle_retvals\n",
      "  warnings.warn(\"Maximum Likelihood optimization failed to \"\n"
     ]
    },
    {
     "name": "stdout",
     "output_type": "stream",
     "text": [
      "Order : (1, 0, 2) , Tred : n \n",
      "RMSE-Testset: 0.18239371630786946\n",
      "maPe-Testset: 0.8331827103535387\n",
      "_______________________________________\n",
      "Order : (1, 0, 2) , Tred : t \n",
      "RMSE-Testset: 0.14872936959459124\n",
      "maPe-Testset: 0.8781406827280466\n",
      "_______________________________________\n",
      "Order : (1, 0, 2) , Tred : c \n",
      "RMSE-Testset: 0.1772153382578958\n",
      "maPe-Testset: 1.0569854401353707\n",
      "_______________________________________\n",
      "Order : (1, 0, 2) , Tred : ct \n",
      "RMSE-Testset: 0.15789720604989568\n",
      "maPe-Testset: 0.8610622226920356\n",
      "_______________________________________\n",
      "Order : (2, 0, 1) , Tred : n \n",
      "RMSE-Testset: 0.1821344011102266\n",
      "maPe-Testset: 0.8340206490030033\n",
      "_______________________________________\n"
     ]
    },
    {
     "name": "stderr",
     "output_type": "stream",
     "text": [
      "C:\\Users\\ELCOT\\anaconda3\\envs\\aidata\\Lib\\site-packages\\statsmodels\\base\\model.py:607: ConvergenceWarning: Maximum Likelihood optimization failed to converge. Check mle_retvals\n",
      "  warnings.warn(\"Maximum Likelihood optimization failed to \"\n"
     ]
    },
    {
     "name": "stdout",
     "output_type": "stream",
     "text": [
      "Order : (2, 0, 1) , Tred : t \n",
      "RMSE-Testset: 0.14871228140465276\n",
      "maPe-Testset: 0.8377889236991296\n",
      "_______________________________________\n",
      "Order : (2, 0, 1) , Tred : c \n",
      "RMSE-Testset: 0.17232614564061224\n",
      "maPe-Testset: 1.0297616773254987\n",
      "_______________________________________\n"
     ]
    },
    {
     "name": "stderr",
     "output_type": "stream",
     "text": [
      "C:\\Users\\ELCOT\\anaconda3\\envs\\aidata\\Lib\\site-packages\\statsmodels\\base\\model.py:607: ConvergenceWarning: Maximum Likelihood optimization failed to converge. Check mle_retvals\n",
      "  warnings.warn(\"Maximum Likelihood optimization failed to \"\n"
     ]
    },
    {
     "name": "stdout",
     "output_type": "stream",
     "text": [
      "Order : (2, 0, 1) , Tred : ct \n",
      "RMSE-Testset: 0.1581244754727588\n",
      "maPe-Testset: 0.8660416348549413\n",
      "_______________________________________\n",
      "Order : (2, 0, 1) , Tred : n \n",
      "RMSE-Testset: 0.1821344011102266\n",
      "maPe-Testset: 0.8340206490030033\n",
      "_______________________________________\n"
     ]
    },
    {
     "name": "stderr",
     "output_type": "stream",
     "text": [
      "C:\\Users\\ELCOT\\anaconda3\\envs\\aidata\\Lib\\site-packages\\statsmodels\\base\\model.py:607: ConvergenceWarning: Maximum Likelihood optimization failed to converge. Check mle_retvals\n",
      "  warnings.warn(\"Maximum Likelihood optimization failed to \"\n"
     ]
    },
    {
     "name": "stdout",
     "output_type": "stream",
     "text": [
      "Order : (2, 0, 1) , Tred : t \n",
      "RMSE-Testset: 0.14871228140465276\n",
      "maPe-Testset: 0.8377889236991296\n",
      "_______________________________________\n",
      "Order : (2, 0, 1) , Tred : c \n",
      "RMSE-Testset: 0.17232614564061224\n",
      "maPe-Testset: 1.0297616773254987\n",
      "_______________________________________\n",
      "Order : (2, 0, 1) , Tred : ct \n",
      "RMSE-Testset: 0.1581244754727588\n",
      "maPe-Testset: 0.8660416348549413\n",
      "_______________________________________\n"
     ]
    },
    {
     "name": "stderr",
     "output_type": "stream",
     "text": [
      "C:\\Users\\ELCOT\\anaconda3\\envs\\aidata\\Lib\\site-packages\\statsmodels\\base\\model.py:607: ConvergenceWarning: Maximum Likelihood optimization failed to converge. Check mle_retvals\n",
      "  warnings.warn(\"Maximum Likelihood optimization failed to \"\n"
     ]
    }
   ],
   "source": [
    "from sklearn.metrics import mean_squared_error\n",
    "from statsmodels.tsa.arima.model import ARIMA\n",
    "trends=['n','t','c','ct']\n",
    "orders=[(1,0,1),(1,0,2),(2,0,1),(2,0,1)]\n",
    "for od in orders:\n",
    "    for td in trends:\n",
    "        model=ARIMA(x_train,order=od,trend=td)\n",
    "        model_fit=model.fit()\n",
    "        # making prediction\n",
    "        y_pred=model_fit.predict(len(x_train),len(data1)-1)\n",
    "        from stockFunctions import rmsemape\n",
    "        print(\"Order : {} , Tred : {} \". format(od,td))\n",
    "        rmsemape(y_test,y_pred)\n",
    "        print(\"_______________________________________\")"
   ]
  },
  {
   "cell_type": "code",
   "execution_count": 10,
   "id": "b81f3aab-da6b-43e8-919a-cc68bafe6594",
   "metadata": {},
   "outputs": [
    {
     "name": "stdout",
     "output_type": "stream",
     "text": [
      "Order : (2, 0, 1) , Tred : ct \n",
      "RMSE-Testset: 0.1581244754727588\n",
      "maPe-Testset: 0.8660416348549413\n",
      "_______________________________________\n"
     ]
    },
    {
     "name": "stderr",
     "output_type": "stream",
     "text": [
      "C:\\Users\\ELCOT\\anaconda3\\envs\\aidata\\Lib\\site-packages\\statsmodels\\base\\model.py:607: ConvergenceWarning: Maximum Likelihood optimization failed to converge. Check mle_retvals\n",
      "  warnings.warn(\"Maximum Likelihood optimization failed to \"\n"
     ]
    }
   ],
   "source": [
    "od=(2,0,1)\n",
    "td='ct'\n",
    "model=ARIMA(x_train,order=od,trend=td)\n",
    "model_fit=model.fit()\n",
    "# making prediction\n",
    "y_pred=model_fit.predict(len(x_train),len(data1)-1)\n",
    "from stockFunctions import rmsemape\n",
    "print(\"Order : {} , Tred : {} \". format(od,td))\n",
    "rmsemape(y_test,y_pred)\n",
    "print(\"_______________________________________\")"
   ]
  },
  {
   "cell_type": "code",
   "execution_count": 11,
   "id": "23a7260b-0062-48a1-b54b-74c2c47cf1f8",
   "metadata": {},
   "outputs": [
    {
     "data": {
      "image/png": "[encoded data removed]",
      "text/plain": [
       "<Figure size 1000x500 with 1 Axes>"
      ]
     },
     "metadata": {},
     "output_type": "display_data"
    }
   ],
   "source": [
    "from stockFunctions import graph\n",
    "graph(y_test,y_pred,\"Actual\",\"Predicted\",\"Axis_bank\",\"Days\",\"Prices\")"
   ]
  },
  {
   "cell_type": "code",
   "execution_count": 12,
   "id": "29dff7e0-93b0-47a1-a16b-794f49c45e79",
   "metadata": {},
   "outputs": [],
   "source": [
    "from stockFunctions import conversionSingle\n",
    "aTestNormTable=conversionSingle(y_test,[column])\n",
    "actual_stock_price_test_ori=ms.inverse_transform(aTestNormTable)\n",
    "actual_stock_price_test_oriA=conversionSingle(actual_stock_price_test_ori,[column])"
   ]
  },
  {
   "cell_type": "code",
   "execution_count": 13,
   "id": "31f07f39-e5a9-4d7b-962d-59fbce7d3da9",
   "metadata": {},
   "outputs": [],
   "source": [
    "from stockFunctions import conversionSingle\n",
    "pTestNormTable=conversionSingle(y_pred,[column])\n",
    "predicted_stock_price_test_ori=ms.inverse_transform(pTestNormTable)\n",
    "predicted_stock_price_test_oriP=conversionSingle(predicted_stock_price_test_ori,[column])"
   ]
  },
  {
   "cell_type": "code",
   "execution_count": 14,
   "id": "3cbb5c03-84a2-4172-9617-20333ec33385",
   "metadata": {},
   "outputs": [
    {
     "data": {
      "image/png": "[encoded data removed]",
      "text/plain": [
       "<Figure size 1000x500 with 1 Axes>"
      ]
     },
     "metadata": {},
     "output_type": "display_data"
    }
   ],
   "source": [
    "from stockFunctions import graph\n",
    "graph(actual_stock_price_test_oriA,predicted_stock_price_test_oriP,\"Actual\",\"Predicted\",\"Axis_bank\",\"Days\",\"Prices\")"
   ]
  },
  {
   "cell_type": "code",
   "execution_count": 15,
   "id": "3d6b7cfd-78d7-4a86-a7de-bfda3a6e742a",
   "metadata": {},
   "outputs": [
    {
     "name": "stdout",
     "output_type": "stream",
     "text": [
      "RMSE-Testset: 30.6761482417152\n",
      "maPe-Testset: 0.03775679661306506\n"
     ]
    }
   ],
   "source": [
    "from stockFunctions import rmsemape\n",
    "rmsemape(actual_stock_price_test_oriA,predicted_stock_price_test_oriP)"
   ]
  },
  {
   "cell_type": "code",
   "execution_count": 16,
   "id": "08fdf735-d0ec-423f-93b2-22553b29e263",
   "metadata": {},
   "outputs": [
    {
     "data": {
      "text/plain": [
       "array([0.3186752 , 0.31727899, 0.31583221, 0.3143387 ])"
      ]
     },
     "execution_count": 16,
     "metadata": {},
     "output_type": "execute_result"
    }
   ],
   "source": [
    "forecast=model_fit.predict(len(data1), len(data1)+3)\n",
    "forecast"
   ]
  },
  {
   "cell_type": "code",
   "execution_count": 17,
   "id": "5ca61aa3-37d4-4780-8602-6b30a4149860",
   "metadata": {},
   "outputs": [],
   "source": [
    "from stockFunctions import conversionSingle\n",
    "fTestNormTable=conversionSingle(forecast,[\"CloseFore\"])\n",
    "forecast_stock_price_test_ori=ms.inverse_transform(fTestNormTable)\n",
    "forecast_stock_price_test_orif=conversionSingle(forecast_stock_price_test_ori,[\"CloseFore\"])"
   ]
  },
  {
   "cell_type": "code",
   "execution_count": 18,
   "id": "e2a2c6fd-2841-42b2-af2e-8d9b49d4f8cf",
   "metadata": {},
   "outputs": [
    {
     "data": {
      "text/html": [
       "<div>\n",
       "<style scoped>\n",
       "    .dataframe tbody tr th:only-of-type {\n",
       "        vertical-align: middle;\n",
       "    }\n",
       "\n",
       "    .dataframe tbody tr th {\n",
       "        vertical-align: top;\n",
       "    }\n",
       "\n",
       "    .dataframe thead th {\n",
       "        text-align: right;\n",
       "    }\n",
       "</style>\n",
       "<table border=\"1\" class=\"dataframe\">\n",
       "  <thead>\n",
       "    <tr style=\"text-align: right;\">\n",
       "      <th></th>\n",
       "      <th>CloseFore</th>\n",
       "    </tr>\n",
       "  </thead>\n",
       "  <tbody>\n",
       "    <tr>\n",
       "      <th>0</th>\n",
       "      <td>712.922965</td>\n",
       "    </tr>\n",
       "    <tr>\n",
       "      <th>1</th>\n",
       "      <td>712.6521</td>\n",
       "    </tr>\n",
       "    <tr>\n",
       "      <th>2</th>\n",
       "      <td>712.371424</td>\n",
       "    </tr>\n",
       "    <tr>\n",
       "      <th>3</th>\n",
       "      <td>712.081683</td>\n",
       "    </tr>\n",
       "  </tbody>\n",
       "</table>\n",
       "</div>"
      ],
      "text/plain": [
       "    CloseFore\n",
       "0  712.922965\n",
       "1    712.6521\n",
       "2  712.371424\n",
       "3  712.081683"
      ]
     },
     "execution_count": 18,
     "metadata": {},
     "output_type": "execute_result"
    }
   ],
   "source": [
    "forecast_stock_price_test_orif"
   ]
  },
  {
   "cell_type": "code",
   "execution_count": 19,
   "id": "1ecc2d97-14f6-42ec-9c7f-f5e868bd26a2",
   "metadata": {},
   "outputs": [
    {
     "data": {
      "text/plain": [
       "[<matplotlib.lines.Line2D at 0x2909c0bbad0>]"
      ]
     },
     "execution_count": 19,
     "metadata": {},
     "output_type": "execute_result"
    },
    {
     "data": {
      "image/png": "[encoded data removed]",
      "text/plain": [
       "<Figure size 1000x500 with 1 Axes>"
      ]
     },
     "metadata": {},
     "output_type": "display_data"
    }
   ],
   "source": [
    "import matplotlib.pyplot as plt\n",
    "plt.figure(figsize=(10,5))\n",
    "plt.plot(actual_stock_price_test_oriA[116:145], color = 'blue', label=\"Actual\")\n",
    "plt.plot(forecast_stock_price_test_orif, color = 'red', label =\"Predicted\")"
   ]
  },
  {
   "cell_type": "code",
   "execution_count": null,
   "id": "293771ea-4456-4d45-aa48-a9986b8872b0",
   "metadata": {},
   "outputs": [],
   "source": []
  }
 ],
 "metadata": {
  "kernelspec": {
   "display_name": "Python 3 (ipykernel)",
   "language": "python",
   "name": "python3"
  },
  "language_info": {
   "codemirror_mode": {
    "name": "ipython",
    "version": 3
   },
   "file_extension": ".py",
   "mimetype": "text/x-python",
   "name": "python",
   "nbconvert_exporter": "python",
   "pygments_lexer": "ipython3",
   "version": "3.11.2"
  }
 },
 "nbformat": 4,
 "nbformat_minor": 5
}
