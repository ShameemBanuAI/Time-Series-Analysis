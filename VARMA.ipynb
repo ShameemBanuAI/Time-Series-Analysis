{
 "cells": [
  {
   "cell_type": "markdown",
   "id": "87c1b419-db78-4301-9dee-c41f613e936f",
   "metadata": {},
   "source": [
    "# Importing necessary libraries"
   ]
  },
  {
   "cell_type": "code",
   "execution_count": 1,
   "id": "d8a274d3-5b9b-476f-aaa9-93aeccff70f5",
   "metadata": {},
   "outputs": [],
   "source": [
    "import pandas as pd\n",
    "import numpy as np\n",
    "import datetime as dt\n",
    "import yfinance as yf\n"
   ]
  },
  {
   "cell_type": "markdown",
   "id": "2ac67b08-ee6a-4f5c-afa1-ae6d5e92f29f",
   "metadata": {},
   "source": [
    "# Data Collection"
   ]
  },
  {
   "cell_type": "code",
   "execution_count": 2,
   "id": "60fcc701-72c8-4ce9-9193-8c55e4e56b02",
   "metadata": {},
   "outputs": [
    {
     "name": "stderr",
     "output_type": "stream",
     "text": [
      "[*********************100%%**********************]  1 of 1 completed\n"
     ]
    }
   ],
   "source": [
    "symbol='AXISBANK.NS'\n",
    "start=dt.datetime(2021,7,1)\n",
    "end=dt.datetime(2022,1,28)\n",
    "stk_data=yf.download(symbol,start=start,end=end)"
   ]
  },
  {
   "cell_type": "code",
   "execution_count": 3,
   "id": "0bd935f3-2daf-4a22-927b-071900fcfa75",
   "metadata": {},
   "outputs": [
    {
     "data": {
      "text/html": [
       "<div>\n",
       "<style scoped>\n",
       "    .dataframe tbody tr th:only-of-type {\n",
       "        vertical-align: middle;\n",
       "    }\n",
       "\n",
       "    .dataframe tbody tr th {\n",
       "        vertical-align: top;\n",
       "    }\n",
       "\n",
       "    .dataframe thead th {\n",
       "        text-align: right;\n",
       "    }\n",
       "</style>\n",
       "<table border=\"1\" class=\"dataframe\">\n",
       "  <thead>\n",
       "    <tr style=\"text-align: right;\">\n",
       "      <th></th>\n",
       "      <th>Open</th>\n",
       "      <th>High</th>\n",
       "      <th>Low</th>\n",
       "      <th>Close</th>\n",
       "      <th>Adj Close</th>\n",
       "      <th>Volume</th>\n",
       "    </tr>\n",
       "    <tr>\n",
       "      <th>Date</th>\n",
       "      <th></th>\n",
       "      <th></th>\n",
       "      <th></th>\n",
       "      <th></th>\n",
       "      <th></th>\n",
       "      <th></th>\n",
       "    </tr>\n",
       "  </thead>\n",
       "  <tbody>\n",
       "    <tr>\n",
       "      <th>2021-07-01</th>\n",
       "      <td>750.000000</td>\n",
       "      <td>754.400024</td>\n",
       "      <td>744.500000</td>\n",
       "      <td>746.450012</td>\n",
       "      <td>744.555725</td>\n",
       "      <td>5695690</td>\n",
       "    </tr>\n",
       "    <tr>\n",
       "      <th>2021-07-02</th>\n",
       "      <td>747.599976</td>\n",
       "      <td>752.849976</td>\n",
       "      <td>744.000000</td>\n",
       "      <td>750.650024</td>\n",
       "      <td>748.745117</td>\n",
       "      <td>3557647</td>\n",
       "    </tr>\n",
       "    <tr>\n",
       "      <th>2021-07-05</th>\n",
       "      <td>757.099976</td>\n",
       "      <td>762.000000</td>\n",
       "      <td>753.400024</td>\n",
       "      <td>760.349976</td>\n",
       "      <td>758.420410</td>\n",
       "      <td>4680089</td>\n",
       "    </tr>\n",
       "    <tr>\n",
       "      <th>2021-07-06</th>\n",
       "      <td>757.000000</td>\n",
       "      <td>767.000000</td>\n",
       "      <td>755.200012</td>\n",
       "      <td>758.349976</td>\n",
       "      <td>756.425476</td>\n",
       "      <td>5529485</td>\n",
       "    </tr>\n",
       "    <tr>\n",
       "      <th>2021-07-07</th>\n",
       "      <td>755.900024</td>\n",
       "      <td>764.000000</td>\n",
       "      <td>752.250000</td>\n",
       "      <td>762.900024</td>\n",
       "      <td>760.963989</td>\n",
       "      <td>3573368</td>\n",
       "    </tr>\n",
       "    <tr>\n",
       "      <th>...</th>\n",
       "      <td>...</td>\n",
       "      <td>...</td>\n",
       "      <td>...</td>\n",
       "      <td>...</td>\n",
       "      <td>...</td>\n",
       "      <td>...</td>\n",
       "    </tr>\n",
       "    <tr>\n",
       "      <th>2022-01-20</th>\n",
       "      <td>731.049988</td>\n",
       "      <td>737.150024</td>\n",
       "      <td>722.150024</td>\n",
       "      <td>728.900024</td>\n",
       "      <td>727.050232</td>\n",
       "      <td>8505400</td>\n",
       "    </tr>\n",
       "    <tr>\n",
       "      <th>2022-01-21</th>\n",
       "      <td>722.000000</td>\n",
       "      <td>725.250000</td>\n",
       "      <td>708.049988</td>\n",
       "      <td>712.500000</td>\n",
       "      <td>710.691895</td>\n",
       "      <td>10689060</td>\n",
       "    </tr>\n",
       "    <tr>\n",
       "      <th>2022-01-24</th>\n",
       "      <td>715.000000</td>\n",
       "      <td>716.400024</td>\n",
       "      <td>688.200012</td>\n",
       "      <td>704.599976</td>\n",
       "      <td>702.811890</td>\n",
       "      <td>8812501</td>\n",
       "    </tr>\n",
       "    <tr>\n",
       "      <th>2022-01-25</th>\n",
       "      <td>714.000000</td>\n",
       "      <td>755.000000</td>\n",
       "      <td>708.599976</td>\n",
       "      <td>752.200012</td>\n",
       "      <td>750.291138</td>\n",
       "      <td>38088158</td>\n",
       "    </tr>\n",
       "    <tr>\n",
       "      <th>2022-01-27</th>\n",
       "      <td>744.000000</td>\n",
       "      <td>777.000000</td>\n",
       "      <td>738.099976</td>\n",
       "      <td>773.849976</td>\n",
       "      <td>771.886169</td>\n",
       "      <td>34927774</td>\n",
       "    </tr>\n",
       "  </tbody>\n",
       "</table>\n",
       "<p>144 rows × 6 columns</p>\n",
       "</div>"
      ],
      "text/plain": [
       "                  Open        High         Low       Close   Adj Close  \\\n",
       "Date                                                                     \n",
       "2021-07-01  750.000000  754.400024  744.500000  746.450012  744.555725   \n",
       "2021-07-02  747.599976  752.849976  744.000000  750.650024  748.745117   \n",
       "2021-07-05  757.099976  762.000000  753.400024  760.349976  758.420410   \n",
       "2021-07-06  757.000000  767.000000  755.200012  758.349976  756.425476   \n",
       "2021-07-07  755.900024  764.000000  752.250000  762.900024  760.963989   \n",
       "...                ...         ...         ...         ...         ...   \n",
       "2022-01-20  731.049988  737.150024  722.150024  728.900024  727.050232   \n",
       "2022-01-21  722.000000  725.250000  708.049988  712.500000  710.691895   \n",
       "2022-01-24  715.000000  716.400024  688.200012  704.599976  702.811890   \n",
       "2022-01-25  714.000000  755.000000  708.599976  752.200012  750.291138   \n",
       "2022-01-27  744.000000  777.000000  738.099976  773.849976  771.886169   \n",
       "\n",
       "              Volume  \n",
       "Date                  \n",
       "2021-07-01   5695690  \n",
       "2021-07-02   3557647  \n",
       "2021-07-05   4680089  \n",
       "2021-07-06   5529485  \n",
       "2021-07-07   3573368  \n",
       "...              ...  \n",
       "2022-01-20   8505400  \n",
       "2022-01-21  10689060  \n",
       "2022-01-24   8812501  \n",
       "2022-01-25  38088158  \n",
       "2022-01-27  34927774  \n",
       "\n",
       "[144 rows x 6 columns]"
      ]
     },
     "execution_count": 3,
     "metadata": {},
     "output_type": "execute_result"
    }
   ],
   "source": [
    "stk_data"
   ]
  },
  {
   "cell_type": "code",
   "execution_count": 4,
   "id": "0c878b8f-3ca9-4442-8098-df2a31e2d92d",
   "metadata": {},
   "outputs": [],
   "source": [
    "stk_data=stk_data[[\"Open\",\"High\",\"Low\",\"Close\"]]"
   ]
  },
  {
   "cell_type": "code",
   "execution_count": 5,
   "id": "234b59a4-1def-40ea-a2ab-555d5750a18c",
   "metadata": {},
   "outputs": [
    {
     "data": {
      "text/html": [
       "<div>\n",
       "<style scoped>\n",
       "    .dataframe tbody tr th:only-of-type {\n",
       "        vertical-align: middle;\n",
       "    }\n",
       "\n",
       "    .dataframe tbody tr th {\n",
       "        vertical-align: top;\n",
       "    }\n",
       "\n",
       "    .dataframe thead th {\n",
       "        text-align: right;\n",
       "    }\n",
       "</style>\n",
       "<table border=\"1\" class=\"dataframe\">\n",
       "  <thead>\n",
       "    <tr style=\"text-align: right;\">\n",
       "      <th></th>\n",
       "      <th>Open</th>\n",
       "      <th>High</th>\n",
       "      <th>Low</th>\n",
       "      <th>Close</th>\n",
       "    </tr>\n",
       "    <tr>\n",
       "      <th>Date</th>\n",
       "      <th></th>\n",
       "      <th></th>\n",
       "      <th></th>\n",
       "      <th></th>\n",
       "    </tr>\n",
       "  </thead>\n",
       "  <tbody>\n",
       "    <tr>\n",
       "      <th>2021-07-01</th>\n",
       "      <td>750.000000</td>\n",
       "      <td>754.400024</td>\n",
       "      <td>744.500000</td>\n",
       "      <td>746.450012</td>\n",
       "    </tr>\n",
       "    <tr>\n",
       "      <th>2021-07-02</th>\n",
       "      <td>747.599976</td>\n",
       "      <td>752.849976</td>\n",
       "      <td>744.000000</td>\n",
       "      <td>750.650024</td>\n",
       "    </tr>\n",
       "    <tr>\n",
       "      <th>2021-07-05</th>\n",
       "      <td>757.099976</td>\n",
       "      <td>762.000000</td>\n",
       "      <td>753.400024</td>\n",
       "      <td>760.349976</td>\n",
       "    </tr>\n",
       "    <tr>\n",
       "      <th>2021-07-06</th>\n",
       "      <td>757.000000</td>\n",
       "      <td>767.000000</td>\n",
       "      <td>755.200012</td>\n",
       "      <td>758.349976</td>\n",
       "    </tr>\n",
       "    <tr>\n",
       "      <th>2021-07-07</th>\n",
       "      <td>755.900024</td>\n",
       "      <td>764.000000</td>\n",
       "      <td>752.250000</td>\n",
       "      <td>762.900024</td>\n",
       "    </tr>\n",
       "    <tr>\n",
       "      <th>...</th>\n",
       "      <td>...</td>\n",
       "      <td>...</td>\n",
       "      <td>...</td>\n",
       "      <td>...</td>\n",
       "    </tr>\n",
       "    <tr>\n",
       "      <th>2022-01-20</th>\n",
       "      <td>731.049988</td>\n",
       "      <td>737.150024</td>\n",
       "      <td>722.150024</td>\n",
       "      <td>728.900024</td>\n",
       "    </tr>\n",
       "    <tr>\n",
       "      <th>2022-01-21</th>\n",
       "      <td>722.000000</td>\n",
       "      <td>725.250000</td>\n",
       "      <td>708.049988</td>\n",
       "      <td>712.500000</td>\n",
       "    </tr>\n",
       "    <tr>\n",
       "      <th>2022-01-24</th>\n",
       "      <td>715.000000</td>\n",
       "      <td>716.400024</td>\n",
       "      <td>688.200012</td>\n",
       "      <td>704.599976</td>\n",
       "    </tr>\n",
       "    <tr>\n",
       "      <th>2022-01-25</th>\n",
       "      <td>714.000000</td>\n",
       "      <td>755.000000</td>\n",
       "      <td>708.599976</td>\n",
       "      <td>752.200012</td>\n",
       "    </tr>\n",
       "    <tr>\n",
       "      <th>2022-01-27</th>\n",
       "      <td>744.000000</td>\n",
       "      <td>777.000000</td>\n",
       "      <td>738.099976</td>\n",
       "      <td>773.849976</td>\n",
       "    </tr>\n",
       "  </tbody>\n",
       "</table>\n",
       "<p>144 rows × 4 columns</p>\n",
       "</div>"
      ],
      "text/plain": [
       "                  Open        High         Low       Close\n",
       "Date                                                      \n",
       "2021-07-01  750.000000  754.400024  744.500000  746.450012\n",
       "2021-07-02  747.599976  752.849976  744.000000  750.650024\n",
       "2021-07-05  757.099976  762.000000  753.400024  760.349976\n",
       "2021-07-06  757.000000  767.000000  755.200012  758.349976\n",
       "2021-07-07  755.900024  764.000000  752.250000  762.900024\n",
       "...                ...         ...         ...         ...\n",
       "2022-01-20  731.049988  737.150024  722.150024  728.900024\n",
       "2022-01-21  722.000000  725.250000  708.049988  712.500000\n",
       "2022-01-24  715.000000  716.400024  688.200012  704.599976\n",
       "2022-01-25  714.000000  755.000000  708.599976  752.200012\n",
       "2022-01-27  744.000000  777.000000  738.099976  773.849976\n",
       "\n",
       "[144 rows x 4 columns]"
      ]
     },
     "execution_count": 5,
     "metadata": {},
     "output_type": "execute_result"
    }
   ],
   "source": [
    "stk_data"
   ]
  },
  {
   "cell_type": "markdown",
   "id": "1a33e372-dac4-4432-a0bf-ec4c05cd8133",
   "metadata": {},
   "source": [
    "# Data Preprocessing"
   ]
  },
  {
   "cell_type": "code",
   "execution_count": 6,
   "id": "16a510b6-b59a-48cc-ba58-bca6c8bf648d",
   "metadata": {},
   "outputs": [
    {
     "name": "stdout",
     "output_type": "stream",
     "text": [
      "Length :  (144, 4)\n"
     ]
    }
   ],
   "source": [
    "\n",
    "from sklearn.preprocessing import MinMaxScaler\n",
    "ms=MinMaxScaler()\n",
    "data1=ms.fit_transform(stk_data)\n",
    "print(\"Length : \",data1.shape)\n"
   ]
  },
  {
   "cell_type": "code",
   "execution_count": 7,
   "id": "4175ddaf-b266-48e2-a360-edd363886f8e",
   "metadata": {},
   "outputs": [
    {
     "data": {
      "text/plain": [
       "array([[0.50898197, 0.44154881, 0.54381512, 0.49149503],\n",
       "       [0.49700581, 0.43385435, 0.54099743, 0.51314458],\n",
       "       [0.54441099, 0.47927516, 0.59397023, 0.56314433],\n",
       "       [0.54391211, 0.50409522, 0.60411386, 0.55283505],\n",
       "       [0.53842321, 0.48920319, 0.58748939, 0.57628891],\n",
       "       [0.55888217, 0.50483994, 0.58439   , 0.53247448],\n",
       "       [0.51896201, 0.43410279, 0.51986471, 0.49613402],\n",
       "       [0.52145702, 0.45842626, 0.56522953, 0.52835052],\n",
       "       [0.55389215, 0.53387928, 0.60298672, 0.6167527 ],\n",
       "       [0.61352294, 0.53611315, 0.65370522, 0.61314439],\n",
       "       [0.61127737, 0.55994034, 0.6677937 , 0.6342786 ],\n",
       "       [0.63872248, 0.54877131, 0.6680754 , 0.61881468],\n",
       "       [0.52045896, 0.50235794, 0.57255547, 0.53659813],\n",
       "       [0.53393207, 0.44551995, 0.54212457, 0.48788672],\n",
       "       [0.50948085, 0.46190113, 0.52409126, 0.49304136],\n",
       "       [0.50399195, 0.48920319, 0.51901927, 0.53762912],\n",
       "       [0.52894205, 0.46934714, 0.54663282, 0.5422681 ],\n",
       "       [0.51147698, 0.4494911 , 0.45702998, 0.41546411],\n",
       "       [0.43313362, 0.34425402, 0.36122835, 0.37010334],\n",
       "       [0.35928139, 0.31298081, 0.38320651, 0.34097951],\n",
       "       [0.34955079, 0.26408543, 0.33333345, 0.2979384 ],\n",
       "       [0.3343313 , 0.29833692, 0.36066495, 0.36108273],\n",
       "       [0.37924147, 0.37428622, 0.40180323, 0.45103093],\n",
       "       [0.46157679, 0.45445511, 0.51084823, 0.52938151],\n",
       "       [0.52395203, 0.44452709, 0.53817973, 0.50618563],\n",
       "       [0.49401192, 0.45768184, 0.51169333, 0.46262887],\n",
       "       [0.4640718 , 0.45644084, 0.51704702, 0.53814446],\n",
       "       [0.53642708, 0.48920319, 0.60298672, 0.56932996],\n",
       "       [0.58383226, 0.51402324, 0.58889824, 0.56546398],\n",
       "       [0.55389215, 0.4862249 , 0.59368818, 0.54768041],\n",
       "       [0.54640712, 0.49168519, 0.59847847, 0.56082499],\n",
       "       [0.53892209, 0.49813834, 0.60862211, 0.57164961],\n",
       "       [0.55389215, 0.46934714, 0.57086492, 0.54458775],\n",
       "       [0.57784418, 0.48821032, 0.57762746, 0.53247448],\n",
       "       [0.48802383, 0.41474303, 0.49704145, 0.45953621],\n",
       "       [0.50648696, 0.41722503, 0.48689782, 0.43814433],\n",
       "       [0.4391217 , 0.41821789, 0.47055505, 0.49097938],\n",
       "       [0.5       , 0.42690491, 0.49140606, 0.45335058],\n",
       "       [0.42964054, 0.41970704, 0.475345  , 0.49097938],\n",
       "       [0.49151691, 0.46736142, 0.52409126, 0.5221652 ],\n",
       "       [0.53892209, 0.61578546, 0.59735133, 0.68530934],\n",
       "       [0.68313377, 0.61330345, 0.73485498, 0.69793827],\n",
       "       [0.74900178, 0.76222377, 0.8306566 , 0.76185592],\n",
       "       [0.73602785, 0.69818791, 0.81375043, 0.78144349],\n",
       "       [0.78093803, 0.71705139, 0.78726403, 0.75721662],\n",
       "       [0.76272434, 0.69719535, 0.83037456, 0.77164955],\n",
       "       [0.7485029 , 0.66492928, 0.75542394, 0.70489691],\n",
       "       [0.70858275, 0.65475282, 0.76077763, 0.74020637],\n",
       "       [0.70359273, 0.63663436, 0.76754017, 0.71675283],\n",
       "       [0.68862267, 0.62050133, 0.76359533, 0.70747423],\n",
       "       [0.71357277, 0.67287158, 0.80022536, 0.73866005],\n",
       "       [0.73852286, 0.6552494 , 0.78331919, 0.72319613],\n",
       "       [0.7210578 , 0.70488951, 0.79515337, 0.78092784],\n",
       "       [0.80264449, 0.77066265, 0.84108194, 0.80541237],\n",
       "       [0.75848294, 0.7103498 , 0.80867845, 0.74613402],\n",
       "       [0.73478035, 0.66294356, 0.70047889, 0.7435567 ],\n",
       "       [0.7210578 , 0.65202267, 0.7776838 , 0.70747423],\n",
       "       [0.73028921, 0.73988572, 0.81459554, 0.83015489],\n",
       "       [0.82110762, 0.75204761, 0.82896571, 0.75747429],\n",
       "       [0.77295412, 0.7115908 , 0.81600438, 0.75180431],\n",
       "       [0.76846298, 0.69570591, 0.73260068, 0.71185586],\n",
       "       [0.67365261, 0.61578546, 0.73541838, 0.67551572],\n",
       "       [0.65818367, 0.60511271, 0.65849517, 0.59510316],\n",
       "       [0.57584836, 0.52742613, 0.59735133, 0.60335077],\n",
       "       [0.61427126, 0.57433609, 0.68920811, 0.65927848],\n",
       "       [0.63073857, 0.5884834 , 0.6942801 , 0.67783505],\n",
       "       [0.6699101 , 0.63911637, 0.7213299 , 0.65902081],\n",
       "       [0.70858275, 0.61901218, 0.71062252, 0.64948454],\n",
       "       [0.66816371, 0.59344741, 0.7213299 , 0.67448472],\n",
       "       [0.66866259, 0.63315949, 0.73823607, 0.70128891],\n",
       "       [0.69860271, 0.66641843, 0.77458441, 0.7528353 ],\n",
       "       [0.7582335 , 0.69024562, 0.81825868, 0.73969072],\n",
       "       [0.75349292, 0.68776361, 0.78895458, 0.77809285],\n",
       "       [0.85828333, 0.76718778, 0.86813174, 0.83608254],\n",
       "       [0.85828333, 0.80193586, 0.84812617, 0.77603118],\n",
       "       [0.76147683, 0.73641085, 0.81149614, 0.7922681 ],\n",
       "       [0.79815366, 0.73492171, 0.81318669, 0.80773202],\n",
       "       [0.81836317, 0.79200783, 0.89489984, 0.85360844],\n",
       "       [0.9086824 , 1.        , 1.        , 1.        ],\n",
       "       [1.        , 0.92429884, 0.98901092, 0.98350541],\n",
       "       [0.95808372, 0.87043914, 0.77571155, 0.70309291],\n",
       "       [0.6961077 , 0.61330345, 0.60101447, 0.55283505],\n",
       "       [0.56886221, 0.47927516, 0.37193573, 0.46855683],\n",
       "       [0.53393207, 0.46934714, 0.51845587, 0.52190722],\n",
       "       [0.52145702, 0.47604844, 0.56382069, 0.53994845],\n",
       "       [0.55613772, 0.48250189, 0.56635668, 0.5128866 ],\n",
       "       [0.54391211, 0.45470325, 0.58269945, 0.52500019],\n",
       "       [0.56387219, 0.47431115, 0.52690895, 0.51520625],\n",
       "       [0.50898197, 0.43931494, 0.53733429, 0.48427841],\n",
       "       [0.47255489, 0.43633635, 0.47337275, 0.5064433 ],\n",
       "       [0.49900194, 0.40977902, 0.49084232, 0.44819594],\n",
       "       [0.47305377, 0.3839661 , 0.48182583, 0.43788666],\n",
       "       [0.44910174, 0.38992297, 0.45083119, 0.42345373],\n",
       "       [0.42539915, 0.336808  , 0.41307401, 0.38685592],\n",
       "       [0.36427141, 0.29511049, 0.33107915, 0.31572165],\n",
       "       [0.3343313 , 0.25093068, 0.30374765, 0.28479381],\n",
       "       [0.32435126, 0.23603864, 0.1656806 , 0.18195901],\n",
       "       [0.16467064, 0.13502115, 0.16539855, 0.17809304],\n",
       "       [0.20958081, 0.14718273, 0.19188496, 0.17551572],\n",
       "       [0.18962074, 0.10697437, 0.16089031, 0.14845386],\n",
       "       [0.10479041, 0.04690996, 0.07016067, 0.05489703],\n",
       "       [0.08507977, 0.        , 0.00760764, 0.        ],\n",
       "       [0.        , 0.05956813, 0.        , 0.02345386],\n",
       "       [0.08433145, 0.07917603, 0.06762468, 0.14690722],\n",
       "       [0.13473052, 0.06626942, 0.1129895 , 0.12886598],\n",
       "       [0.15518948, 0.10871165, 0.12961397, 0.11288672],\n",
       "       [0.1297405 , 0.06602128, 0.07410551, 0.06185567],\n",
       "       [0.11976046, 0.12956056, 0.12397858, 0.18505167],\n",
       "       [0.23453091, 0.17920066, 0.22344335, 0.2371134 ],\n",
       "       [0.25024959, 0.17101023, 0.22541559, 0.22087648],\n",
       "       [0.21007969, 0.13154628, 0.20146519, 0.19046398],\n",
       "       [0.25449099, 0.23057835, 0.25415595, 0.27268054],\n",
       "       [0.26447103, 0.24100266, 0.2795152 , 0.30824767],\n",
       "       [0.32135737, 0.27078672, 0.3355874 , 0.31649497],\n",
       "       [0.35429137, 0.2804666 , 0.32149892, 0.30180438],\n",
       "       [0.29690615, 0.21121859, 0.20907283, 0.19484561],\n",
       "       [0.1644212 , 0.08140959, 0.06818808, 0.11984536],\n",
       "       [0.17465068, 0.08711833, 0.08171315, 0.07603093],\n",
       "       [0.10978043, 0.05658954, 0.09016624, 0.09407216],\n",
       "       [0.14471056, 0.09456434, 0.13863045, 0.14278357],\n",
       "       [0.16541926, 0.08215432, 0.08143145, 0.08453621],\n",
       "       [0.07509973, 0.04542052, 0.04480142, 0.10850541],\n",
       "       [0.14620751, 0.07644558, 0.13524936, 0.12551565],\n",
       "       [0.13223551, 0.07024057, 0.10848125, 0.10000013],\n",
       "       [0.09980039, 0.0379745 , 0.09298393, 0.09149485],\n",
       "       [0.12450104, 0.10449236, 0.13074111, 0.14149491],\n",
       "       [0.16092812, 0.16406049, 0.17469709, 0.23324742],\n",
       "       [0.26447103, 0.22635876, 0.29332197, 0.29922706],\n",
       "       [0.31886236, 0.32489456, 0.33671454, 0.3907219 ],\n",
       "       [0.35903195, 0.33780086, 0.40011268, 0.40824749],\n",
       "       [0.42914166, 0.37453466, 0.43533387, 0.40979381],\n",
       "       [0.42739528, 0.38992297, 0.48013529, 0.47268048],\n",
       "       [0.47355296, 0.40506315, 0.50324025, 0.47500013],\n",
       "       [0.50723559, 0.42690491, 0.53620748, 0.4935567 ],\n",
       "       [0.50399195, 0.41474303, 0.5018314 , 0.46185586],\n",
       "       [0.43313362, 0.34996275, 0.38348821, 0.36391771],\n",
       "       [0.35429137, 0.273765  , 0.34657648, 0.31726829],\n",
       "       [0.34680634, 0.34971461, 0.37334458, 0.38195895],\n",
       "       [0.38522955, 0.33010671, 0.39842213, 0.40463918],\n",
       "       [0.41442105, 0.35591962, 0.4178643 , 0.40103118],\n",
       "       [0.36926143, 0.29684777, 0.33840509, 0.31649497],\n",
       "       [0.3343313 , 0.2529164 , 0.22654274, 0.2757732 ],\n",
       "       [0.32934128, 0.44452709, 0.34150449, 0.52113421],\n",
       "       [0.47904186, 0.55373532, 0.50774849, 0.63273196]])"
      ]
     },
     "execution_count": 7,
     "metadata": {},
     "output_type": "execute_result"
    }
   ],
   "source": [
    "data1"
   ]
  },
  {
   "cell_type": "markdown",
   "id": "3571c90f-1d43-4416-8d29-481bf6ddce7d",
   "metadata": {},
   "source": [
    "# Creating dataframe for processed values"
   ]
  },
  {
   "cell_type": "code",
   "execution_count": 8,
   "id": "1b29d833-a9c7-4ec9-8d2c-a3f077a10ebd",
   "metadata": {},
   "outputs": [],
   "source": [
    "data1=pd.DataFrame(data1,columns=[\"Open\",\"High\",\"Low\",\"Close\"])"
   ]
  },
  {
   "cell_type": "code",
   "execution_count": 9,
   "id": "da19d1cd-5f71-42f9-b51a-3f618a19b530",
   "metadata": {},
   "outputs": [
    {
     "data": {
      "text/plain": [
       "(144, 4)"
      ]
     },
     "execution_count": 9,
     "metadata": {},
     "output_type": "execute_result"
    }
   ],
   "source": [
    "data1.shape"
   ]
  },
  {
   "cell_type": "code",
   "execution_count": 10,
   "id": "081a9cc5-57c2-447a-9f11-e5e3be249bc4",
   "metadata": {},
   "outputs": [],
   "source": [
    "import warnings\n",
    "warnings.filterwarnings(\"ignore\")"
   ]
  },
  {
   "cell_type": "code",
   "execution_count": 11,
   "id": "68d63f5d-1879-4b96-9c6a-30966986ac74",
   "metadata": {},
   "outputs": [],
   "source": [
    "# creating dictionary to store values\n",
    "performance={\"Model\":[],\"RMSE\":[],\"MaPe\":[],\"Lag\":[],\"Test\":[]} \n",
    "\n",
    "# creating list\n",
    "listt=[\"Close\",\"High\",\"Open\",\"Low\"]"
   ]
  },
  {
   "cell_type": "code",
   "execution_count": 12,
   "id": "c372ea8b-03a2-403d-947d-4077687b0388",
   "metadata": {},
   "outputs": [
    {
     "name": "stdout",
     "output_type": "stream",
     "text": [
      "['Close', 'High', 'Open', 'Low']\n"
     ]
    }
   ],
   "source": [
    "print(listt)"
   ]
  },
  {
   "cell_type": "code",
   "execution_count": 13,
   "id": "3d513f05-6bbe-4c6d-b0bc-af724e0493da",
   "metadata": {},
   "outputs": [
    {
     "data": {
      "text/plain": [
       "{'Model': [], 'RMSE': [], 'MaPe': [], 'Lag': [], 'Test': []}"
      ]
     },
     "execution_count": 13,
     "metadata": {},
     "output_type": "execute_result"
    }
   ],
   "source": [
    "performance"
   ]
  },
  {
   "cell_type": "code",
   "execution_count": 14,
   "id": "7834a51e-adc4-465e-8644-7aa134c8ca9a",
   "metadata": {},
   "outputs": [
    {
     "data": {
      "text/html": [
       "<div>\n",
       "<style scoped>\n",
       "    .dataframe tbody tr th:only-of-type {\n",
       "        vertical-align: middle;\n",
       "    }\n",
       "\n",
       "    .dataframe tbody tr th {\n",
       "        vertical-align: top;\n",
       "    }\n",
       "\n",
       "    .dataframe thead th {\n",
       "        text-align: right;\n",
       "    }\n",
       "</style>\n",
       "<table border=\"1\" class=\"dataframe\">\n",
       "  <thead>\n",
       "    <tr style=\"text-align: right;\">\n",
       "      <th></th>\n",
       "      <th>Close</th>\n",
       "      <th>High</th>\n",
       "      <th>Open</th>\n",
       "      <th>Low</th>\n",
       "    </tr>\n",
       "  </thead>\n",
       "  <tbody>\n",
       "    <tr>\n",
       "      <th>0</th>\n",
       "      <td>0.491495</td>\n",
       "      <td>0.441549</td>\n",
       "      <td>0.508982</td>\n",
       "      <td>0.543815</td>\n",
       "    </tr>\n",
       "    <tr>\n",
       "      <th>1</th>\n",
       "      <td>0.513145</td>\n",
       "      <td>0.433854</td>\n",
       "      <td>0.497006</td>\n",
       "      <td>0.540997</td>\n",
       "    </tr>\n",
       "    <tr>\n",
       "      <th>2</th>\n",
       "      <td>0.563144</td>\n",
       "      <td>0.479275</td>\n",
       "      <td>0.544411</td>\n",
       "      <td>0.593970</td>\n",
       "    </tr>\n",
       "    <tr>\n",
       "      <th>3</th>\n",
       "      <td>0.552835</td>\n",
       "      <td>0.504095</td>\n",
       "      <td>0.543912</td>\n",
       "      <td>0.604114</td>\n",
       "    </tr>\n",
       "    <tr>\n",
       "      <th>4</th>\n",
       "      <td>0.576289</td>\n",
       "      <td>0.489203</td>\n",
       "      <td>0.538423</td>\n",
       "      <td>0.587489</td>\n",
       "    </tr>\n",
       "    <tr>\n",
       "      <th>...</th>\n",
       "      <td>...</td>\n",
       "      <td>...</td>\n",
       "      <td>...</td>\n",
       "      <td>...</td>\n",
       "    </tr>\n",
       "    <tr>\n",
       "      <th>139</th>\n",
       "      <td>0.401031</td>\n",
       "      <td>0.355920</td>\n",
       "      <td>0.414421</td>\n",
       "      <td>0.417864</td>\n",
       "    </tr>\n",
       "    <tr>\n",
       "      <th>140</th>\n",
       "      <td>0.316495</td>\n",
       "      <td>0.296848</td>\n",
       "      <td>0.369261</td>\n",
       "      <td>0.338405</td>\n",
       "    </tr>\n",
       "    <tr>\n",
       "      <th>141</th>\n",
       "      <td>0.275773</td>\n",
       "      <td>0.252916</td>\n",
       "      <td>0.334331</td>\n",
       "      <td>0.226543</td>\n",
       "    </tr>\n",
       "    <tr>\n",
       "      <th>142</th>\n",
       "      <td>0.521134</td>\n",
       "      <td>0.444527</td>\n",
       "      <td>0.329341</td>\n",
       "      <td>0.341504</td>\n",
       "    </tr>\n",
       "    <tr>\n",
       "      <th>143</th>\n",
       "      <td>0.632732</td>\n",
       "      <td>0.553735</td>\n",
       "      <td>0.479042</td>\n",
       "      <td>0.507748</td>\n",
       "    </tr>\n",
       "  </tbody>\n",
       "</table>\n",
       "<p>144 rows × 4 columns</p>\n",
       "</div>"
      ],
      "text/plain": [
       "        Close      High      Open       Low\n",
       "0    0.491495  0.441549  0.508982  0.543815\n",
       "1    0.513145  0.433854  0.497006  0.540997\n",
       "2    0.563144  0.479275  0.544411  0.593970\n",
       "3    0.552835  0.504095  0.543912  0.604114\n",
       "4    0.576289  0.489203  0.538423  0.587489\n",
       "..        ...       ...       ...       ...\n",
       "139  0.401031  0.355920  0.414421  0.417864\n",
       "140  0.316495  0.296848  0.369261  0.338405\n",
       "141  0.275773  0.252916  0.334331  0.226543\n",
       "142  0.521134  0.444527  0.329341  0.341504\n",
       "143  0.632732  0.553735  0.479042  0.507748\n",
       "\n",
       "[144 rows x 4 columns]"
      ]
     },
     "execution_count": 14,
     "metadata": {},
     "output_type": "execute_result"
    }
   ],
   "source": [
    "datasetTwo=data1[listt]\n",
    "datasetTwo"
   ]
  },
  {
   "cell_type": "markdown",
   "id": "5087342a-1b66-4247-a0e6-302bce343f82",
   "metadata": {},
   "source": [
    "# Train and test Split"
   ]
  },
  {
   "cell_type": "code",
   "execution_count": 15,
   "id": "a5267026-79cc-4506-93c7-e10be6312859",
   "metadata": {},
   "outputs": [],
   "source": [
    "test_obs=28\n",
    "train=datasetTwo[:-test_obs]\n",
    "test=datasetTwo[-test_obs:]"
   ]
  },
  {
   "cell_type": "markdown",
   "id": "42690ce1-5b41-403f-8f14-03fb00fccfea",
   "metadata": {},
   "source": [
    "# Model creation and Forecasting"
   ]
  },
  {
   "cell_type": "code",
   "execution_count": 29,
   "id": "ca5cb886-8da1-4cad-82a6-8588579d0847",
   "metadata": {},
   "outputs": [],
   "source": [
    "from statsmodels.tsa.statespace.varmax import VARMAX\n",
    "from sklearn.metrics import mean_squared_error, mean_absolute_percentage_error\n",
    "\n",
    "\n",
    "def combination(dataset, listt):\n",
    "    print(listt)\n",
    "    datasetTwo = dataset[listt]\n",
    "    test_obs = 28\n",
    "    train = datasetTwo[:-test_obs]\n",
    "    test = datasetTwo[-test_obs:]\n",
    "\n",
    "    # Initialize lists to store performance metrics\n",
    "    rmse_list = []\n",
    "    mape_list = []\n",
    "    lag_list = []\n",
    "\n",
    "    for p in range(1, 6):  # Iterate over different autoregressive orders\n",
    "        for q in range(1, 4):  # Iterate over different moving average orders\n",
    "            try:\n",
    "                model = VARMAX(train, order=(p, q))  # VARMA model\n",
    "                result = model.fit(maxiter=1000, disp=False)\n",
    "\n",
    "                print('Order = (p={}, q={})'.format(p, q))\n",
    "                print('AIC: ', result.aic)\n",
    "                print('BIC: ', result.bic)\n",
    "                print()\n",
    "\n",
    "                # Forecast\n",
    "                pred = result.forecast(steps=28)\n",
    "\n",
    "                # Calculate performance metrics\n",
    "                rmse = round(mean_squared_error(test, pred, squared=False))\n",
    "                mape = mean_absolute_percentage_error(test, pred)\n",
    "\n",
    "                # Append metrics to lists\n",
    "                rmse_list.append(rmse)\n",
    "                mape_list.append(mape)\n",
    "                lag_list.append((p, q))\n",
    "            except Exception as e:\n",
    "                print(f\"Error fitting model for order (p={p}, q={q}): {e}\")\n",
    "\n",
    "    # Check if rmse_list is empty\n",
    "    if not rmse_list:\n",
    "        print(\"No suitable models found.\")\n",
    "        return None, None, None\n",
    "\n",
    "    \n",
    "    # Find the best performing model based on RMSE\n",
    "    min_rmse_index = rmse_list.index(min(rmse_list))\n",
    "    best_lag = lag_list[min_rmse_index]\n",
    "    best_rmse = rmse_list[min_rmse_index]\n",
    "    best_mape = mape_list[min_rmse_index]\n",
    "\n",
    "    print('Best Model (based on RMSE):')\n",
    "    print('Order (p, q):', best_lag)\n",
    "    print('RMSE:', best_rmse)\n",
    "    print('MAPE:', best_mape)\n",
    "\n",
    "    # Fit the best model\n",
    "    best_model = VARMAX(train, order=best_lag)\n",
    "    best_result = best_model.fit(maxiter=1000, disp=False)\n",
    "\n",
    "    # Forecast using the best model\n",
    "    best_pred = best_result.forecast(steps=28)\n",
    "\n",
    "    # Save forecast to CSV\n",
    "    preds = pd.DataFrame(best_pred, columns=listt)\n",
    "    #preds.to_csv(\"varma_forecasted_{}.csv\".format(test_obs))\n",
    "\n",
    "    # Create DataFrame to store performance metrics\n",
    "    performance = pd.DataFrame({\n",
    "        'Model': [listt],\n",
    "        'RMSE': [best_rmse],\n",
    "        'MAPE': [best_mape],\n",
    "        'Lag': [best_lag],\n",
    "        'Test': [test_obs]\n",
    "    })\n",
    "\n",
    "    return performance, best_result, best_pred\n"
   ]
  },
  {
   "cell_type": "code",
   "execution_count": 30,
   "id": "55e914a7-4521-45b9-9abe-f1f4760a188f",
   "metadata": {},
   "outputs": [
    {
     "name": "stdout",
     "output_type": "stream",
     "text": [
      "['Close', 'High', 'Open', 'Low']\n"
     ]
    },
    {
     "name": "stderr",
     "output_type": "stream",
     "text": [
      "C:\\Users\\ELCOT\\anaconda3\\envs\\aidata\\Lib\\site-packages\\statsmodels\\tsa\\statespace\\varmax.py:161: EstimationWarning: Estimation of VARMA(p,q) models is not generically robust, due especially to identification issues.\n",
      "  warn('Estimation of VARMA(p,q) models is not generically robust,'\n",
      "C:\\Users\\ELCOT\\anaconda3\\envs\\aidata\\Lib\\site-packages\\statsmodels\\base\\model.py:607: ConvergenceWarning: Maximum Likelihood optimization failed to converge. Check mle_retvals\n",
      "  warnings.warn(\"Maximum Likelihood optimization failed to \"\n"
     ]
    },
    {
     "name": "stdout",
     "output_type": "stream",
     "text": [
      "Order = (p=1, q=1)\n",
      "AIC:  -1893.9271224753036\n",
      "BIC:  -1767.2619736844108\n",
      "\n"
     ]
    },
    {
     "name": "stderr",
     "output_type": "stream",
     "text": [
      "C:\\Users\\ELCOT\\anaconda3\\envs\\aidata\\Lib\\site-packages\\statsmodels\\tsa\\statespace\\varmax.py:161: EstimationWarning: Estimation of VARMA(p,q) models is not generically robust, due especially to identification issues.\n",
      "  warn('Estimation of VARMA(p,q) models is not generically robust,'\n"
     ]
    },
    {
     "name": "stdout",
     "output_type": "stream",
     "text": [
      "Order = (p=1, q=2)\n",
      "AIC:  -1899.2379812015947\n",
      "BIC:  -1728.515389353\n",
      "\n"
     ]
    },
    {
     "name": "stderr",
     "output_type": "stream",
     "text": [
      "C:\\Users\\ELCOT\\anaconda3\\envs\\aidata\\Lib\\site-packages\\statsmodels\\tsa\\statespace\\varmax.py:161: EstimationWarning: Estimation of VARMA(p,q) models is not generically robust, due especially to identification issues.\n",
      "  warn('Estimation of VARMA(p,q) models is not generically robust,'\n",
      "C:\\Users\\ELCOT\\anaconda3\\envs\\aidata\\Lib\\site-packages\\statsmodels\\base\\model.py:607: ConvergenceWarning: Maximum Likelihood optimization failed to converge. Check mle_retvals\n",
      "  warnings.warn(\"Maximum Likelihood optimization failed to \"\n"
     ]
    },
    {
     "name": "stdout",
     "output_type": "stream",
     "text": [
      "Order = (p=1, q=3)\n",
      "AIC:  -1878.5213590650578\n",
      "BIC:  -1663.7413241587615\n",
      "\n"
     ]
    },
    {
     "name": "stderr",
     "output_type": "stream",
     "text": [
      "C:\\Users\\ELCOT\\anaconda3\\envs\\aidata\\Lib\\site-packages\\statsmodels\\tsa\\statespace\\varmax.py:161: EstimationWarning: Estimation of VARMA(p,q) models is not generically robust, due especially to identification issues.\n",
      "  warn('Estimation of VARMA(p,q) models is not generically robust,'\n"
     ]
    },
    {
     "name": "stdout",
     "output_type": "stream",
     "text": [
      "Order = (p=2, q=1)\n",
      "AIC:  -1904.9649344951054\n",
      "BIC:  -1734.2423426465107\n",
      "\n"
     ]
    },
    {
     "name": "stderr",
     "output_type": "stream",
     "text": [
      "C:\\Users\\ELCOT\\anaconda3\\envs\\aidata\\Lib\\site-packages\\statsmodels\\tsa\\statespace\\varmax.py:161: EstimationWarning: Estimation of VARMA(p,q) models is not generically robust, due especially to identification issues.\n",
      "  warn('Estimation of VARMA(p,q) models is not generically robust,'\n"
     ]
    },
    {
     "name": "stdout",
     "output_type": "stream",
     "text": [
      "Order = (p=2, q=2)\n",
      "AIC:  -1876.5831601681593\n",
      "BIC:  -1661.803125261863\n",
      "\n"
     ]
    },
    {
     "name": "stderr",
     "output_type": "stream",
     "text": [
      "C:\\Users\\ELCOT\\anaconda3\\envs\\aidata\\Lib\\site-packages\\statsmodels\\tsa\\statespace\\varmax.py:161: EstimationWarning: Estimation of VARMA(p,q) models is not generically robust, due especially to identification issues.\n",
      "  warn('Estimation of VARMA(p,q) models is not generically robust,'\n",
      "C:\\Users\\ELCOT\\anaconda3\\envs\\aidata\\Lib\\site-packages\\statsmodels\\base\\model.py:607: ConvergenceWarning: Maximum Likelihood optimization failed to converge. Check mle_retvals\n",
      "  warnings.warn(\"Maximum Likelihood optimization failed to \"\n"
     ]
    },
    {
     "name": "stdout",
     "output_type": "stream",
     "text": [
      "Order = (p=2, q=3)\n",
      "AIC:  -1855.4522336819498\n",
      "BIC:  -1596.6147557179515\n",
      "\n"
     ]
    },
    {
     "name": "stderr",
     "output_type": "stream",
     "text": [
      "C:\\Users\\ELCOT\\anaconda3\\envs\\aidata\\Lib\\site-packages\\statsmodels\\tsa\\statespace\\varmax.py:161: EstimationWarning: Estimation of VARMA(p,q) models is not generically robust, due especially to identification issues.\n",
      "  warn('Estimation of VARMA(p,q) models is not generically robust,'\n"
     ]
    },
    {
     "name": "stdout",
     "output_type": "stream",
     "text": [
      "Order = (p=3, q=1)\n",
      "AIC:  -1888.3014835744982\n",
      "BIC:  -1673.5214486682019\n",
      "\n"
     ]
    },
    {
     "name": "stderr",
     "output_type": "stream",
     "text": [
      "C:\\Users\\ELCOT\\anaconda3\\envs\\aidata\\Lib\\site-packages\\statsmodels\\tsa\\statespace\\varmax.py:161: EstimationWarning: Estimation of VARMA(p,q) models is not generically robust, due especially to identification issues.\n",
      "  warn('Estimation of VARMA(p,q) models is not generically robust,'\n"
     ]
    },
    {
     "name": "stdout",
     "output_type": "stream",
     "text": [
      "Order = (p=3, q=2)\n",
      "AIC:  -1857.49600482907\n",
      "BIC:  -1598.6585268650717\n",
      "\n"
     ]
    },
    {
     "name": "stderr",
     "output_type": "stream",
     "text": [
      "C:\\Users\\ELCOT\\anaconda3\\envs\\aidata\\Lib\\site-packages\\statsmodels\\tsa\\statespace\\varmax.py:161: EstimationWarning: Estimation of VARMA(p,q) models is not generically robust, due especially to identification issues.\n",
      "  warn('Estimation of VARMA(p,q) models is not generically robust,'\n"
     ]
    },
    {
     "name": "stdout",
     "output_type": "stream",
     "text": [
      "Order = (p=3, q=3)\n",
      "AIC:  -1827.0465387875838\n",
      "BIC:  -1524.1516177658837\n",
      "\n"
     ]
    },
    {
     "name": "stderr",
     "output_type": "stream",
     "text": [
      "C:\\Users\\ELCOT\\anaconda3\\envs\\aidata\\Lib\\site-packages\\statsmodels\\tsa\\statespace\\varmax.py:161: EstimationWarning: Estimation of VARMA(p,q) models is not generically robust, due especially to identification issues.\n",
      "  warn('Estimation of VARMA(p,q) models is not generically robust,'\n",
      "C:\\Users\\ELCOT\\anaconda3\\envs\\aidata\\Lib\\site-packages\\statsmodels\\base\\model.py:607: ConvergenceWarning: Maximum Likelihood optimization failed to converge. Check mle_retvals\n",
      "  warnings.warn(\"Maximum Likelihood optimization failed to \"\n"
     ]
    },
    {
     "name": "stdout",
     "output_type": "stream",
     "text": [
      "Order = (p=4, q=1)\n",
      "AIC:  -1868.672034117536\n",
      "BIC:  -1609.8345561535377\n",
      "\n"
     ]
    },
    {
     "name": "stderr",
     "output_type": "stream",
     "text": [
      "C:\\Users\\ELCOT\\anaconda3\\envs\\aidata\\Lib\\site-packages\\statsmodels\\tsa\\statespace\\varmax.py:161: EstimationWarning: Estimation of VARMA(p,q) models is not generically robust, due especially to identification issues.\n",
      "  warn('Estimation of VARMA(p,q) models is not generically robust,'\n",
      "C:\\Users\\ELCOT\\anaconda3\\envs\\aidata\\Lib\\site-packages\\statsmodels\\base\\model.py:607: ConvergenceWarning: Maximum Likelihood optimization failed to converge. Check mle_retvals\n",
      "  warnings.warn(\"Maximum Likelihood optimization failed to \"\n"
     ]
    },
    {
     "name": "stdout",
     "output_type": "stream",
     "text": [
      "Order = (p=4, q=2)\n",
      "AIC:  -1836.6255014512612\n",
      "BIC:  -1533.730580429561\n",
      "\n"
     ]
    },
    {
     "name": "stderr",
     "output_type": "stream",
     "text": [
      "C:\\Users\\ELCOT\\anaconda3\\envs\\aidata\\Lib\\site-packages\\statsmodels\\tsa\\statespace\\varmax.py:161: EstimationWarning: Estimation of VARMA(p,q) models is not generically robust, due especially to identification issues.\n",
      "  warn('Estimation of VARMA(p,q) models is not generically robust,'\n",
      "C:\\Users\\ELCOT\\anaconda3\\envs\\aidata\\Lib\\site-packages\\statsmodels\\base\\model.py:607: ConvergenceWarning: Maximum Likelihood optimization failed to converge. Check mle_retvals\n",
      "  warnings.warn(\"Maximum Likelihood optimization failed to \"\n"
     ]
    },
    {
     "name": "stdout",
     "output_type": "stream",
     "text": [
      "Order = (p=4, q=3)\n",
      "AIC:  -1806.7175370083091\n",
      "BIC:  -1459.7651729289073\n",
      "\n"
     ]
    },
    {
     "name": "stderr",
     "output_type": "stream",
     "text": [
      "C:\\Users\\ELCOT\\anaconda3\\envs\\aidata\\Lib\\site-packages\\statsmodels\\tsa\\statespace\\varmax.py:161: EstimationWarning: Estimation of VARMA(p,q) models is not generically robust, due especially to identification issues.\n",
      "  warn('Estimation of VARMA(p,q) models is not generically robust,'\n"
     ]
    },
    {
     "name": "stdout",
     "output_type": "stream",
     "text": [
      "Error fitting model for order (p=5, q=1): Schur decomposition solver error.\n"
     ]
    },
    {
     "name": "stderr",
     "output_type": "stream",
     "text": [
      "C:\\Users\\ELCOT\\anaconda3\\envs\\aidata\\Lib\\site-packages\\statsmodels\\tsa\\statespace\\varmax.py:161: EstimationWarning: Estimation of VARMA(p,q) models is not generically robust, due especially to identification issues.\n",
      "  warn('Estimation of VARMA(p,q) models is not generically robust,'\n"
     ]
    },
    {
     "name": "stdout",
     "output_type": "stream",
     "text": [
      "Error fitting model for order (p=5, q=2): Schur decomposition solver error.\n"
     ]
    },
    {
     "name": "stderr",
     "output_type": "stream",
     "text": [
      "C:\\Users\\ELCOT\\anaconda3\\envs\\aidata\\Lib\\site-packages\\statsmodels\\tsa\\statespace\\varmax.py:161: EstimationWarning: Estimation of VARMA(p,q) models is not generically robust, due especially to identification issues.\n",
      "  warn('Estimation of VARMA(p,q) models is not generically robust,'\n"
     ]
    },
    {
     "name": "stdout",
     "output_type": "stream",
     "text": [
      "Error fitting model for order (p=5, q=3): Schur decomposition solver error.\n",
      "Best Model (based on RMSE):\n",
      "Order (p, q): (1, 1)\n",
      "RMSE: 0\n",
      "MAPE: 0.6302594382526286\n"
     ]
    },
    {
     "name": "stderr",
     "output_type": "stream",
     "text": [
      "C:\\Users\\ELCOT\\anaconda3\\envs\\aidata\\Lib\\site-packages\\statsmodels\\tsa\\statespace\\varmax.py:161: EstimationWarning: Estimation of VARMA(p,q) models is not generically robust, due especially to identification issues.\n",
      "  warn('Estimation of VARMA(p,q) models is not generically robust,'\n",
      "C:\\Users\\ELCOT\\anaconda3\\envs\\aidata\\Lib\\site-packages\\statsmodels\\base\\model.py:607: ConvergenceWarning: Maximum Likelihood optimization failed to converge. Check mle_retvals\n",
      "  warnings.warn(\"Maximum Likelihood optimization failed to \"\n"
     ]
    }
   ],
   "source": [
    "perf,best_res,best_pre=combination(data1, listt)"
   ]
  },
  {
   "cell_type": "code",
   "execution_count": 31,
   "id": "7b5c95f1-ad05-4d95-84fb-7d3b7381aacc",
   "metadata": {},
   "outputs": [
    {
     "data": {
      "text/html": [
       "<div>\n",
       "<style scoped>\n",
       "    .dataframe tbody tr th:only-of-type {\n",
       "        vertical-align: middle;\n",
       "    }\n",
       "\n",
       "    .dataframe tbody tr th {\n",
       "        vertical-align: top;\n",
       "    }\n",
       "\n",
       "    .dataframe thead th {\n",
       "        text-align: right;\n",
       "    }\n",
       "</style>\n",
       "<table border=\"1\" class=\"dataframe\">\n",
       "  <thead>\n",
       "    <tr style=\"text-align: right;\">\n",
       "      <th></th>\n",
       "      <th>Model</th>\n",
       "      <th>RMSE</th>\n",
       "      <th>MAPE</th>\n",
       "      <th>Lag</th>\n",
       "      <th>Test</th>\n",
       "    </tr>\n",
       "  </thead>\n",
       "  <tbody>\n",
       "    <tr>\n",
       "      <th>0</th>\n",
       "      <td>[Close, High, Open, Low]</td>\n",
       "      <td>0</td>\n",
       "      <td>0.630259</td>\n",
       "      <td>(1, 1)</td>\n",
       "      <td>28</td>\n",
       "    </tr>\n",
       "  </tbody>\n",
       "</table>\n",
       "</div>"
      ],
      "text/plain": [
       "                      Model  RMSE      MAPE     Lag  Test\n",
       "0  [Close, High, Open, Low]     0  0.630259  (1, 1)    28"
      ]
     },
     "execution_count": 31,
     "metadata": {},
     "output_type": "execute_result"
    }
   ],
   "source": [
    "perf"
   ]
  },
  {
   "cell_type": "code",
   "execution_count": 32,
   "id": "b1dcdb1d-965e-436c-8933-25ab55d5b949",
   "metadata": {},
   "outputs": [
    {
     "data": {
      "text/plain": [
       "<statsmodels.tsa.statespace.varmax.VARMAXResultsWrapper at 0x207341c9ad0>"
      ]
     },
     "execution_count": 32,
     "metadata": {},
     "output_type": "execute_result"
    }
   ],
   "source": [
    "best_res"
   ]
  },
  {
   "cell_type": "code",
   "execution_count": 33,
   "id": "3dac131c-ab56-42f9-a701-3a5e452a36ef",
   "metadata": {},
   "outputs": [
    {
     "data": {
      "text/html": [
       "<div>\n",
       "<style scoped>\n",
       "    .dataframe tbody tr th:only-of-type {\n",
       "        vertical-align: middle;\n",
       "    }\n",
       "\n",
       "    .dataframe tbody tr th {\n",
       "        vertical-align: top;\n",
       "    }\n",
       "\n",
       "    .dataframe thead th {\n",
       "        text-align: right;\n",
       "    }\n",
       "</style>\n",
       "<table border=\"1\" class=\"dataframe\">\n",
       "  <thead>\n",
       "    <tr style=\"text-align: right;\">\n",
       "      <th></th>\n",
       "      <th>Close</th>\n",
       "      <th>High</th>\n",
       "      <th>Open</th>\n",
       "      <th>Low</th>\n",
       "    </tr>\n",
       "  </thead>\n",
       "  <tbody>\n",
       "    <tr>\n",
       "      <th>116</th>\n",
       "      <td>0.173516</td>\n",
       "      <td>0.151974</td>\n",
       "      <td>0.209784</td>\n",
       "      <td>0.169809</td>\n",
       "    </tr>\n",
       "    <tr>\n",
       "      <th>117</th>\n",
       "      <td>0.179680</td>\n",
       "      <td>0.141501</td>\n",
       "      <td>0.191766</td>\n",
       "      <td>0.170786</td>\n",
       "    </tr>\n",
       "    <tr>\n",
       "      <th>118</th>\n",
       "      <td>0.192440</td>\n",
       "      <td>0.148776</td>\n",
       "      <td>0.197805</td>\n",
       "      <td>0.186851</td>\n",
       "    </tr>\n",
       "    <tr>\n",
       "      <th>119</th>\n",
       "      <td>0.207690</td>\n",
       "      <td>0.161496</td>\n",
       "      <td>0.210024</td>\n",
       "      <td>0.203941</td>\n",
       "    </tr>\n",
       "    <tr>\n",
       "      <th>120</th>\n",
       "      <td>0.223478</td>\n",
       "      <td>0.176228</td>\n",
       "      <td>0.224695</td>\n",
       "      <td>0.221287</td>\n",
       "    </tr>\n",
       "    <tr>\n",
       "      <th>121</th>\n",
       "      <td>0.239001</td>\n",
       "      <td>0.191322</td>\n",
       "      <td>0.239898</td>\n",
       "      <td>0.238156</td>\n",
       "    </tr>\n",
       "    <tr>\n",
       "      <th>122</th>\n",
       "      <td>0.253928</td>\n",
       "      <td>0.206097</td>\n",
       "      <td>0.254852</td>\n",
       "      <td>0.254305</td>\n",
       "    </tr>\n",
       "    <tr>\n",
       "      <th>123</th>\n",
       "      <td>0.268143</td>\n",
       "      <td>0.220278</td>\n",
       "      <td>0.269236</td>\n",
       "      <td>0.269652</td>\n",
       "    </tr>\n",
       "    <tr>\n",
       "      <th>124</th>\n",
       "      <td>0.281617</td>\n",
       "      <td>0.233770</td>\n",
       "      <td>0.282934</td>\n",
       "      <td>0.284185</td>\n",
       "    </tr>\n",
       "    <tr>\n",
       "      <th>125</th>\n",
       "      <td>0.294364</td>\n",
       "      <td>0.246555</td>\n",
       "      <td>0.295920</td>\n",
       "      <td>0.297927</td>\n",
       "    </tr>\n",
       "    <tr>\n",
       "      <th>126</th>\n",
       "      <td>0.306410</td>\n",
       "      <td>0.258647</td>\n",
       "      <td>0.308204</td>\n",
       "      <td>0.310912</td>\n",
       "    </tr>\n",
       "    <tr>\n",
       "      <th>127</th>\n",
       "      <td>0.317790</td>\n",
       "      <td>0.270074</td>\n",
       "      <td>0.319813</td>\n",
       "      <td>0.323176</td>\n",
       "    </tr>\n",
       "    <tr>\n",
       "      <th>128</th>\n",
       "      <td>0.328536</td>\n",
       "      <td>0.280867</td>\n",
       "      <td>0.330780</td>\n",
       "      <td>0.334758</td>\n",
       "    </tr>\n",
       "    <tr>\n",
       "      <th>129</th>\n",
       "      <td>0.338685</td>\n",
       "      <td>0.291060</td>\n",
       "      <td>0.341137</td>\n",
       "      <td>0.345696</td>\n",
       "    </tr>\n",
       "    <tr>\n",
       "      <th>130</th>\n",
       "      <td>0.348268</td>\n",
       "      <td>0.300686</td>\n",
       "      <td>0.350918</td>\n",
       "      <td>0.356023</td>\n",
       "    </tr>\n",
       "    <tr>\n",
       "      <th>131</th>\n",
       "      <td>0.357318</td>\n",
       "      <td>0.309776</td>\n",
       "      <td>0.360154</td>\n",
       "      <td>0.365776</td>\n",
       "    </tr>\n",
       "    <tr>\n",
       "      <th>132</th>\n",
       "      <td>0.365862</td>\n",
       "      <td>0.318359</td>\n",
       "      <td>0.368875</td>\n",
       "      <td>0.374984</td>\n",
       "    </tr>\n",
       "    <tr>\n",
       "      <th>133</th>\n",
       "      <td>0.373931</td>\n",
       "      <td>0.326463</td>\n",
       "      <td>0.377110</td>\n",
       "      <td>0.383680</td>\n",
       "    </tr>\n",
       "    <tr>\n",
       "      <th>134</th>\n",
       "      <td>0.381550</td>\n",
       "      <td>0.334116</td>\n",
       "      <td>0.384886</td>\n",
       "      <td>0.391890</td>\n",
       "    </tr>\n",
       "    <tr>\n",
       "      <th>135</th>\n",
       "      <td>0.388744</td>\n",
       "      <td>0.341343</td>\n",
       "      <td>0.392228</td>\n",
       "      <td>0.399643</td>\n",
       "    </tr>\n",
       "    <tr>\n",
       "      <th>136</th>\n",
       "      <td>0.395537</td>\n",
       "      <td>0.348166</td>\n",
       "      <td>0.399162</td>\n",
       "      <td>0.406964</td>\n",
       "    </tr>\n",
       "    <tr>\n",
       "      <th>137</th>\n",
       "      <td>0.401951</td>\n",
       "      <td>0.354609</td>\n",
       "      <td>0.405708</td>\n",
       "      <td>0.413877</td>\n",
       "    </tr>\n",
       "    <tr>\n",
       "      <th>138</th>\n",
       "      <td>0.408008</td>\n",
       "      <td>0.360693</td>\n",
       "      <td>0.411890</td>\n",
       "      <td>0.420404</td>\n",
       "    </tr>\n",
       "    <tr>\n",
       "      <th>139</th>\n",
       "      <td>0.413727</td>\n",
       "      <td>0.366438</td>\n",
       "      <td>0.417727</td>\n",
       "      <td>0.426567</td>\n",
       "    </tr>\n",
       "    <tr>\n",
       "      <th>140</th>\n",
       "      <td>0.419127</td>\n",
       "      <td>0.371862</td>\n",
       "      <td>0.423239</td>\n",
       "      <td>0.432387</td>\n",
       "    </tr>\n",
       "    <tr>\n",
       "      <th>141</th>\n",
       "      <td>0.424227</td>\n",
       "      <td>0.376984</td>\n",
       "      <td>0.428444</td>\n",
       "      <td>0.437883</td>\n",
       "    </tr>\n",
       "    <tr>\n",
       "      <th>142</th>\n",
       "      <td>0.429042</td>\n",
       "      <td>0.381821</td>\n",
       "      <td>0.433358</td>\n",
       "      <td>0.443072</td>\n",
       "    </tr>\n",
       "    <tr>\n",
       "      <th>143</th>\n",
       "      <td>0.433588</td>\n",
       "      <td>0.386388</td>\n",
       "      <td>0.437998</td>\n",
       "      <td>0.447971</td>\n",
       "    </tr>\n",
       "  </tbody>\n",
       "</table>\n",
       "</div>"
      ],
      "text/plain": [
       "        Close      High      Open       Low\n",
       "116  0.173516  0.151974  0.209784  0.169809\n",
       "117  0.179680  0.141501  0.191766  0.170786\n",
       "118  0.192440  0.148776  0.197805  0.186851\n",
       "119  0.207690  0.161496  0.210024  0.203941\n",
       "120  0.223478  0.176228  0.224695  0.221287\n",
       "121  0.239001  0.191322  0.239898  0.238156\n",
       "122  0.253928  0.206097  0.254852  0.254305\n",
       "123  0.268143  0.220278  0.269236  0.269652\n",
       "124  0.281617  0.233770  0.282934  0.284185\n",
       "125  0.294364  0.246555  0.295920  0.297927\n",
       "126  0.306410  0.258647  0.308204  0.310912\n",
       "127  0.317790  0.270074  0.319813  0.323176\n",
       "128  0.328536  0.280867  0.330780  0.334758\n",
       "129  0.338685  0.291060  0.341137  0.345696\n",
       "130  0.348268  0.300686  0.350918  0.356023\n",
       "131  0.357318  0.309776  0.360154  0.365776\n",
       "132  0.365862  0.318359  0.368875  0.374984\n",
       "133  0.373931  0.326463  0.377110  0.383680\n",
       "134  0.381550  0.334116  0.384886  0.391890\n",
       "135  0.388744  0.341343  0.392228  0.399643\n",
       "136  0.395537  0.348166  0.399162  0.406964\n",
       "137  0.401951  0.354609  0.405708  0.413877\n",
       "138  0.408008  0.360693  0.411890  0.420404\n",
       "139  0.413727  0.366438  0.417727  0.426567\n",
       "140  0.419127  0.371862  0.423239  0.432387\n",
       "141  0.424227  0.376984  0.428444  0.437883\n",
       "142  0.429042  0.381821  0.433358  0.443072\n",
       "143  0.433588  0.386388  0.437998  0.447971"
      ]
     },
     "execution_count": 33,
     "metadata": {},
     "output_type": "execute_result"
    }
   ],
   "source": [
    "best_pre"
   ]
  },
  {
   "cell_type": "code",
   "execution_count": 37,
   "id": "472b93e0-1974-4f80-9217-5d81559c27fa",
   "metadata": {},
   "outputs": [
    {
     "data": {
      "image/png": "[encoded data removed]",
      "text/plain": [
       "<Figure size 1000x500 with 1 Axes>"
      ]
     },
     "metadata": {},
     "output_type": "display_data"
    }
   ],
   "source": [
    "from matplotlib import pyplot as plt\n",
    "plt.figure(figsize=(10,5))\n",
    "plt.plot(test['Close'], color = 'blue', label=\"Actual\")\n",
    "plt.plot(best_pre['Close'], color = 'green', label =\"Predicted\")\n",
    "plt.title(\"AXISBANK_CLOSE_VARMA\")\n",
    "plt.xlabel(\"Days\")\n",
    "plt.ylabel(\"Prices\")\n",
    "plt.legend()\n",
    "plt.show()"
   ]
  },
  {
   "cell_type": "code",
   "execution_count": 45,
   "id": "ff086d44-e844-47c0-a9e0-8547c48d65ff",
   "metadata": {},
   "outputs": [
    {
     "data": {
      "text/html": [
       "<div>\n",
       "<style scoped>\n",
       "    .dataframe tbody tr th:only-of-type {\n",
       "        vertical-align: middle;\n",
       "    }\n",
       "\n",
       "    .dataframe tbody tr th {\n",
       "        vertical-align: top;\n",
       "    }\n",
       "\n",
       "    .dataframe thead th {\n",
       "        text-align: right;\n",
       "    }\n",
       "</style>\n",
       "<table border=\"1\" class=\"dataframe\">\n",
       "  <thead>\n",
       "    <tr style=\"text-align: right;\">\n",
       "      <th></th>\n",
       "      <th>Close</th>\n",
       "      <th>High</th>\n",
       "      <th>Open</th>\n",
       "      <th>Low</th>\n",
       "    </tr>\n",
       "  </thead>\n",
       "  <tbody>\n",
       "    <tr>\n",
       "      <th>144</th>\n",
       "      <td>0.437881</td>\n",
       "      <td>0.390700</td>\n",
       "      <td>0.442380</td>\n",
       "      <td>0.452598</td>\n",
       "    </tr>\n",
       "    <tr>\n",
       "      <th>145</th>\n",
       "      <td>0.441935</td>\n",
       "      <td>0.394772</td>\n",
       "      <td>0.446518</td>\n",
       "      <td>0.456967</td>\n",
       "    </tr>\n",
       "    <tr>\n",
       "      <th>146</th>\n",
       "      <td>0.445763</td>\n",
       "      <td>0.398617</td>\n",
       "      <td>0.450424</td>\n",
       "      <td>0.461092</td>\n",
       "    </tr>\n",
       "    <tr>\n",
       "      <th>147</th>\n",
       "      <td>0.449377</td>\n",
       "      <td>0.402248</td>\n",
       "      <td>0.454113</td>\n",
       "      <td>0.464987</td>\n",
       "    </tr>\n",
       "  </tbody>\n",
       "</table>\n",
       "</div>"
      ],
      "text/plain": [
       "        Close      High      Open       Low\n",
       "144  0.437881  0.390700  0.442380  0.452598\n",
       "145  0.441935  0.394772  0.446518  0.456967\n",
       "146  0.445763  0.398617  0.450424  0.461092\n",
       "147  0.449377  0.402248  0.454113  0.464987"
      ]
     },
     "execution_count": 45,
     "metadata": {},
     "output_type": "execute_result"
    }
   ],
   "source": [
    "forecast = best_res.predict(start=len(data1), end=len(data1) + 3, exog=test[:4])\n",
    "forecast"
   ]
  },
  {
   "cell_type": "code",
   "execution_count": null,
   "id": "f1e68a98-15d8-4ca8-9ec9-7cb22b377f51",
   "metadata": {},
   "outputs": [],
   "source": []
  }
 ],
 "metadata": {
  "kernelspec": {
   "display_name": "Python 3 (ipykernel)",
   "language": "python",
   "name": "python3"
  },
  "language_info": {
   "codemirror_mode": {
    "name": "ipython",
    "version": 3
   },
   "file_extension": ".py",
   "mimetype": "text/x-python",
   "name": "python",
   "nbconvert_exporter": "python",
   "pygments_lexer": "ipython3",
   "version": "3.11.2"
  }
 },
 "nbformat": 4,
 "nbformat_minor": 5
}
